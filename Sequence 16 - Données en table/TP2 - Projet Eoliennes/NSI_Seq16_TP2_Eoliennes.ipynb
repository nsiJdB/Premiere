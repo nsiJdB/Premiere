{
 "cells": [
  {
   "cell_type": "markdown",
   "metadata": {},
   "source": [
    "# TP N°2 - Traitement de données en table\n",
    "# Implantation d'Eoliennes en Eure et Loir"
   ]
  },
  {
   "cell_type": "markdown",
   "metadata": {},
   "source": [
    "Le département de l’Eure-et-Loir décide de développer son parc éolien à l’horizon 2025.\n",
    "Pour cela un bureau de la préfecture est chargé de définir les lieux potentiellement éligibles pour accueillir un futur parc éolien, et il fait appel à vous pour le faire de façon automatique grâce à un script Python.\n",
    "\n",
    "Pour être éligible, la commune devra avoir moins de 1000 habitants et être située à une altitude supérieure à 200 mètres . Il y aura maximum 8 parcs de créer. Si le nombre de communes éligibles est supérieur à 8, ce seront celles qui ont la plus grande superficie qui seront retenues.\n",
    "\n",
    "Pour cela, le bureau décide de référencer toutes les communes du département et d’en extraire les communes éligibles. Il dispose d’un fichier au format csv , récupéré sur data.gouv.fr . Malheureusement ce fichier contient toutes communes de la région Centre val de Loire. Et des renseignements inutiles pour la problématique.\n"
   ]
  },
  {
   "cell_type": "markdown",
   "metadata": {},
   "source": [
    "## 1. Préliminaires"
   ]
  },
  {
   "cell_type": "markdown",
   "metadata": {},
   "source": [
    "#### a) Réaliser un fichier CSV à partir de Python"
   ]
  },
  {
   "cell_type": "markdown",
   "metadata": {},
   "source": [
    "On considère la fonction `export_fichier_csv` suivante. Exécuter le code et compléter la documentation de la fonction."
   ]
  },
  {
   "cell_type": "code",
   "execution_count": 17,
   "metadata": {},
   "outputs": [],
   "source": [
    "import csv\n",
    "\n",
    "liste = [{'a':0,'b':2}, {'a':5,'b':6}, {'a':-3,'b':3}]\n",
    "\n",
    "def export_fichier_csv(nom_fichier, liste_enregistrements, separateur):\n",
    "    \"\"\"\n",
    "    docstring à préciser\n",
    "    \"\"\"\n",
    "\n",
    "    with open(nom_fichier, 'w', newline='', encoding=\"utf-8\") as csvfile:\n",
    "        writer = csv.DictWriter(csvfile,\n",
    "                                fieldnames=list(liste_enregistrements[0].keys()),\n",
    "                                delimiter=separateur)\n",
    "\n",
    "        # Ecriture de la premiere ligne du fichier CSV avec le nom des descripteurs\n",
    "        writer.writeheader()\n",
    "\n",
    "        # Export de tous les enregistrements de la liste\n",
    "        for enregistrement in liste_enregistrements:\n",
    "            writer.writerow(enregistrement)\n",
    "\n",
    "export_fichier_csv('essai.csv',liste,\";\")"
   ]
  },
  {
   "cell_type": "markdown",
   "metadata": {},
   "source": [
    "### b) Trier une liste de dictionnaires selon une clé"
   ]
  },
  {
   "cell_type": "markdown",
   "metadata": {},
   "source": [
    "Si `liste = [5,1,7,3]`, pour trier la `liste`, on peut utiliser la méthode `liste.sort()`. "
   ]
  },
  {
   "cell_type": "code",
   "execution_count": 29,
   "metadata": {},
   "outputs": [
    {
     "name": "stdout",
     "output_type": "stream",
     "text": [
      "[1, 3, 5, 7]\n",
      "[7, 5, 3, 1]\n"
     ]
    }
   ],
   "source": [
    "liste = [5,1,7,3]\n",
    "liste.sort()\n",
    "print(liste)\n",
    "\n",
    "# pour trier par ordre décroissant, on peut utiliser l'option reverse comme ci-dessous :\n",
    "liste.sort(reverse = True)\n",
    "print(liste)"
   ]
  },
  {
   "cell_type": "markdown",
   "metadata": {},
   "source": [
    "Mais comment trier `liste = [('Bob', 25),('Alice', 17),('Corale', 15)]` ?"
   ]
  },
  {
   "cell_type": "code",
   "execution_count": 1,
   "metadata": {},
   "outputs": [
    {
     "name": "stdout",
     "output_type": "stream",
     "text": [
      "[('Alice', 17), ('Bob', 25), ('Carole', 15)]\n",
      "[('Alice', 17), ('Bob', 25), ('Carole', 15)]\n"
     ]
    }
   ],
   "source": [
    "liste = [('Bob', 25),('Carole', 15), ('Alice', 17)]\n",
    "\n",
    "# Pour trier cette liste selon le premier élément de chaque tuple\n",
    "def choix_param_tri(elt):\n",
    "    return elt[0]\n",
    "\n",
    "liste.sort(key = choix_param_tri) \n",
    "# key reçoit une fonction, cette fonction reçoit en paramètre un élément de la liste et retourne le critère de tri\n",
    "# ici elt[0]\n",
    "print(liste)\n",
    "\n",
    "# Autre codage possible plus concis\n",
    "liste = [('Bob', 25), ('Carole', 15), ('Alice', 17)]\n",
    "liste.sort(key = lambda elt:elt[0])\n",
    "# lambda est une fonction où elt est paramètre et elt[0] est la valeur retournée\n",
    "print(liste)"
   ]
  },
  {
   "cell_type": "markdown",
   "metadata": {},
   "source": [
    "<div class=\"alert alert-info\">\n",
    "    \n",
    "<strong class='fa fa-cogs' style=\"color: darkorange\"> A faire </strong>\n",
    "</div>"
   ]
  },
  {
   "cell_type": "code",
   "execution_count": null,
   "metadata": {},
   "outputs": [],
   "source": [
    "liste = [('Bob', 25), ('Carole', 15), ('Alice', 17)]\n",
    "# Proposer un code permet de trier liste par ordre décroissant, en utilisant comme critère de tri \n",
    "# le deuxième de chaque tuple\n",
    "# TODO"
   ]
  },
  {
   "cell_type": "code",
   "execution_count": 40,
   "metadata": {},
   "outputs": [],
   "source": [
    "liste = [{'a':0,'b':2},{'a':5,'b':6},{'a':-3,'b':3}]\n",
    "# Proposer un code permettant de trier la liste par ordre croissant en utilisant comme critère de tri\n",
    "# la valeur associée à la clé 'b'.\n",
    "# TODO"
   ]
  },
  {
   "cell_type": "markdown",
   "metadata": {},
   "source": [
    "## 2. Retour au projet"
   ]
  },
  {
   "cell_type": "markdown",
   "metadata": {},
   "source": [
    "L'ensemble des communes de la région Centre Val de Loire, sont répertoriées, avec leurs caractéristiques dans le fichier `communes_2016.csv`."
   ]
  },
  {
   "cell_type": "markdown",
   "metadata": {},
   "source": [
    "<div class=\"alert alert-info\">\n",
    "    \n",
    "<strong class='fa fa-cogs' style=\"color: darkorange\"> Importation des données </strong>\n",
    "\n",
    "1. On souhaite importer les données de la table sur la forme d'une liste de dictionnaires.<br/>\n",
    "Ces informations seront stockées dans une liste appelée `liste_communes`.\n",
    "\n",
    "2. Compléter le code pour afficher la liste des descripteurs.\n",
    "</div>"
   ]
  },
  {
   "cell_type": "code",
   "execution_count": null,
   "metadata": {},
   "outputs": [],
   "source": [
    "# Code pour importer les données du fichier CSV\n",
    "\n",
    "\n",
    "# Code pour afficher la liste des descripteurs"
   ]
  },
  {
   "cell_type": "markdown",
   "metadata": {},
   "source": [
    "<div class=\"alert alert-info\">\n",
    "    \n",
    "<strong class='fa fa-cogs' style=\"color: darkorange\"> Sélection des données </strong>\n",
    "\n",
    "1. Avant de s’intéresser à proprement parler au problème éolien, il faut modifier les données pour ne garder que les champs pertinents évoqués dans la présentation du projet.<br/>\n",
    "Ecrire le code de la fonction `selection_descripteurs` suivante.\n",
    "2. Ecrire le script d'une fonction `selection_departement` qui reçoit en paramètre une liste d'enregistrements et un département et qui retourne la liste d'enregistrements avec uniquement les enregistrements du département entré en paramètre.\n",
    "</div>"
   ]
  },
  {
   "cell_type": "code",
   "execution_count": null,
   "metadata": {},
   "outputs": [],
   "source": [
    "def selection_descripteurs(liste_enregistrements, liste_champs):\n",
    "    \"\"\"\n",
    "    param liste_enregistrements: liste de dictionnaires (liste des enregistrements d'une table)\n",
    "    param liste_champs: liste de str correspon à la liste des descripteurs à conserver\n",
    "    return: liste_enregistrements avec les clés des descripteurs inutiles supprimés.\n",
    "    \"\"\"\n",
    "    pass\n",
    "\n",
    "\n",
    "def selection_departement(liste_enregistrements, departement):\n",
    "    \"\"\"\n",
    "    Fonction qui retourne la liste liste_enregistrements avec uniquement les enregistrements de département donnée\n",
    "    en paramètre.\n",
    "    param liste_communes: liste de dictionnaires (liste des enregistrements d'une table)\n",
    "    param departement: chaine de caractères : numéro du département à sélectionner\n",
    "    return: liste_enregistrements modifiée.\n",
    "    \"\"\"\n",
    "    pass\n",
    "\n",
    "\n",
    "# afficher le premier enregistrement pour vérifier le bon fonctionnement de la première fonction\n",
    "\n",
    "# vérifier le bon fonctionnement de la deuxième fonction."
   ]
  },
  {
   "cell_type": "markdown",
   "metadata": {},
   "source": [
    "<div class=\"alert alert-info\">\n",
    "    \n",
    "<strong class='fa fa-cogs' style=\"color: darkorange\"> Choix des communes candidates </strong>\n",
    "\n",
    "Ecrire le script d'une fonction `selection_criteres` qui reçoit en paramètre une liste d'enregistrements et qui renvoie la liste des enregistrements répondant aux critères pour installer des éoliennes.\n",
    "</div>"
   ]
  },
  {
   "cell_type": "code",
   "execution_count": null,
   "metadata": {},
   "outputs": [],
   "source": [
    "def selection_criteres(liste_enregistrements):\n",
    "    pass"
   ]
  },
  {
   "cell_type": "markdown",
   "metadata": {},
   "source": [
    "<div class=\"alert alert-info\">\n",
    "    \n",
    "<strong class='fa fa-cogs' style=\"color: darkorange\"> Edition des communes retenues </strong>\n",
    "\n",
    "1. Donner le script d'un algorithme permettant de déterminer les communes retenues pour l'implantation des éoliennes.\n",
    "2. Enregistrer ces communes et leurs caractéristiques retenues dans un fichier `communes_retenues.csv`.\n",
    "</div>"
   ]
  },
  {
   "cell_type": "code",
   "execution_count": 47,
   "metadata": {},
   "outputs": [],
   "source": [
    "# code à saisir ici."
   ]
  }
 ],
 "metadata": {
  "kernelspec": {
   "display_name": "Python 3",
   "language": "python",
   "name": "python3"
  },
  "language_info": {
   "codemirror_mode": {
    "name": "ipython",
    "version": 3
   },
   "file_extension": ".py",
   "mimetype": "text/x-python",
   "name": "python",
   "nbconvert_exporter": "python",
   "pygments_lexer": "ipython3",
   "version": "3.7.4"
  }
 },
 "nbformat": 4,
 "nbformat_minor": 2
}
