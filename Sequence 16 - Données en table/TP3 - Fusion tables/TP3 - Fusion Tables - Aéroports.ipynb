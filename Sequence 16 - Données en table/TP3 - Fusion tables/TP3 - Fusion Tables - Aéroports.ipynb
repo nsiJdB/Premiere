{
 "cells": [
  {
   "cell_type": "markdown",
   "metadata": {},
   "source": [
    "# Séquence N°16 - Traitement des données en table\n",
    "# TP N°3 : Cartes des aéroports - Fusion de tables"
   ]
  },
  {
   "cell_type": "markdown",
   "metadata": {},
   "source": [
    "L'objectif est de TP est de réaliser une carte des aéroports du monde.<br/>\n",
    "Pour cela nous allons nous appuyer sur des tables de données à partir des fichiers CSV :\n",
    "- `airports.csv`\n",
    "- `countries.csv`"
   ]
  },
  {
   "cell_type": "markdown",
   "metadata": {},
   "source": [
    "## 1. Importation des données"
   ]
  },
  {
   "cell_type": "markdown",
   "metadata": {},
   "source": [
    "<div class=\"alert alert-info\">\n",
    "    \n",
    "<strong class='fa fa-cogs' style=\"color: darkorange\"> Importation des données </strong>\n",
    "\n",
    "1. On souhaite importer les données de la table `airports.csv` sous la forme d'une liste de dictionnaires.<br/>\n",
    "Ces informations seront stockées dans une liste appelée `table_aeroports`.\n",
    "\n",
    "2. Compléter le code pour afficher la liste des descripteurs.\n",
    "</div>"
   ]
  },
  {
   "cell_type": "code",
   "execution_count": 1,
   "metadata": {},
   "outputs": [],
   "source": [
    "# Code pour importer les données du fichier CSV\n",
    "\n",
    "\n",
    "# Code pour afficher la liste des descripteurs"
   ]
  },
  {
   "cell_type": "markdown",
   "metadata": {},
   "source": [
    "## 2. Création d'une carte avec la bibliothèque Folium"
   ]
  },
  {
   "cell_type": "markdown",
   "metadata": {},
   "source": [
    "<div class=\"alert alert-info\">\n",
    "    \n",
    "<strong class='fa fa-cogs' style=\"color: darkorange\"> Exécuter le code ci-dessous.</strong>\n",
    "\n",
    "Il n'est pas demandé de le comprendre.\n",
    "</div>"
   ]
  },
  {
   "cell_type": "code",
   "execution_count": 5,
   "metadata": {},
   "outputs": [],
   "source": [
    "import folium\n",
    "import math\n",
    "import random\n",
    "\n",
    "def mystere(dictionnaire):\n",
    "    ''' \n",
    "    Etant donné un dictionnaire passé en argument retourne une chaîne de caractères \n",
    "    dont la spécification est l'objet d'une question de l'énoncé\n",
    "    '''\n",
    "    code = \"<p> <style> table, tr, td {border: 1px solid pink;} </style> <table>\"\n",
    "    for cle, valeur in dictionnaire.items():\n",
    "        code = code + (\"<tr><td>\" + cle + \"</td>\" + \"<td>\" + valeur + \"</td></tr>\")\n",
    "    code = code + \"</table></p>\"\n",
    "    return code\n",
    "\n",
    "def generer_popup(dictionnaire):\n",
    "    contenu_de_la_popup = mystere(dictionnaire)\n",
    "    iframe = folium.IFrame(html = contenu_de_la_popup, width = 300, height = 200)\n",
    "    popup = folium.Popup(iframe, max_width = 500)\n",
    "    return popup\n",
    "\n",
    "def ajouter_marqueur(carte, latitude, longitude, dictionnaire, couleur):\n",
    "    '''\n",
    "    carte : de type folium.Map\n",
    "    latitude et longitude : de type float\n",
    "    dictionnaire : de type dict avec clées et valeurs de type str\n",
    "    couleur : au format '#RRGGBB' où RR, GG, BB sont des entiers entre 0 et 255 en hexadécimal\n",
    "              représentant les composant Rouge, Verte et Bleue de la couleur\n",
    "    '''\n",
    "    radius = 4\n",
    "    folium.CircleMarker(\n",
    "        location = [latitude, longitude],\n",
    "        radius = radius,\n",
    "        popup = generer_popup(dictionnaire),\n",
    "        color = couleur,\n",
    "        fill = True\n",
    "    ).add_to(carte)"
   ]
  },
  {
   "cell_type": "markdown",
   "metadata": {},
   "source": [
    "Nous allons utiliser le module `folium` qui permet de générer des cartes géographiques interactives (zoomables) avec des marqueurs légendés (cliquables). Lorsqu'on cherche à générer une carte avec ce module le processus de conception est le suivant, qui se déroule en trois étapes :\n",
    "\n",
    "- Créer une \"carte\" (de type `folium.Map`)\n",
    "- Ajouter des \"marqueurs\" sur la \"carte\n",
    "    - En spécifiant latitude et longitude\n",
    "    - En spécifiant les informations que l'on souhaite voir apparaitre lors d'un clic sur le marqueur\n",
    "    - En spécifiant d'autres paramètres tels que la couleur du marqueur\n",
    "- Obtenir la carte en demandant sa représentation"
   ]
  },
  {
   "cell_type": "markdown",
   "metadata": {},
   "source": [
    "La fonction `ajouter_marqueur` permet de gérer l'étape 2 (pour un seul marqueur) et prend en paramètres :\n",
    "- une latitude (de type `float`)\n",
    "- une longitude (de type `float`)\n",
    "- une légende sous forme de dictionnaire (clés et valeurs de type `str`)\n",
    "- une couleur `\"#RRGGBB\"` où `RR`,`GG` et `BB` représentent les composantes rouge, verte et bleue en hexadécimal (entre `00` et `FF`)\n",
    "\n",
    "Elle permet d'ajouter un marqueur ayant la légende donnée, au point de coordonnées données, sur une folium.Map."
   ]
  },
  {
   "cell_type": "markdown",
   "metadata": {},
   "source": [
    "<div class=\"alert alert-info\">\n",
    "    \n",
    "<strong class='fa fa-cogs' style=\"color: darkorange\"> Exécuter le code ci-dessous.</strong>\n",
    "\n",
    "</div>"
   ]
  },
  {
   "cell_type": "code",
   "execution_count": 6,
   "metadata": {},
   "outputs": [
    {
     "data": {
      "text/html": [
       "<div style=\"width:100%;\"><div style=\"position:relative;width:100%;height:0;padding-bottom:60%;\"><span style=\"color:#565656\">Make this Notebook Trusted to load map: File -> Trust Notebook</span><iframe src=\"about:blank\" style=\"position:absolute;width:100%;height:100%;left:0;top:0;border:none !important;\" data-html=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 onload=\"this.contentDocument.open();this.contentDocument.write(atob(this.getAttribute('data-html')));this.contentDocument.close();\" allowfullscreen webkitallowfullscreen mozallowfullscreen></iframe></div></div>"
      ],
      "text/plain": [
       "<folium.folium.Map at 0x1894030>"
      ]
     },
     "execution_count": 6,
     "metadata": {},
     "output_type": "execute_result"
    }
   ],
   "source": [
    "#étape 1 : création de la carte  \n",
    "ma_carte = folium.Map(location=(47.5, 1), zoom_start=7)\n",
    "\n",
    "#étape 2 : ajout de quatre marqueurs\n",
    "ajouter_marqueur(ma_carte, 47.90, 1.90, {'Ville' : 'ORLEANS',    'Pop.' : '114644'}, \"#FF0000\")\n",
    "ajouter_marqueur(ma_carte, 47.39, 0.68, {'Ville' : 'TOURS',      'Pop.' : '136252'}, \"#880000\")\n",
    "ajouter_marqueur(ma_carte, 48.73, 1.36, {'Ville' : 'DREUX',      'Pop.' : '30836'},  \"#00FFFF\")\n",
    "\n",
    "#étape 3 : affichage de la carte\n",
    "ma_carte"
   ]
  },
  {
   "cell_type": "markdown",
   "metadata": {},
   "source": [
    "<div class=\"alert alert-info\">\n",
    "    \n",
    "<strong class='fa fa-cogs' style=\"color: darkorange\"> Question 1</strong>\n",
    "\n",
    "Modifier le code ci-dessus afin d'ajouter un marqueur pour la ville de Chartres de couleur jaune (latitude : 48.444, longitude : 1.4890, population : 38 875).\n",
    "</div>"
   ]
  },
  {
   "cell_type": "markdown",
   "metadata": {},
   "source": [
    "## 3. Projet"
   ]
  },
  {
   "cell_type": "markdown",
   "metadata": {},
   "source": [
    "### 3.1 Quelques fonctions pour commencer"
   ]
  },
  {
   "cell_type": "markdown",
   "metadata": {},
   "source": [
    "Nus avons vu comment accéder au fichier des aéroports et comment enrichir une carte avec des marqueurs. Nous allons désormais chercher à créer une carte avec les aéroports de la façon suivante :\n",
    "    \n",
    "- La couleur du marqueur dépendra de l'altitude de l'aéroport (attention dans le fichier elle est exprimée en pieds):\n",
    "    - entre 0 et 40 mètres : bleu\n",
    "    - entre 40 et 500 mètres : vert\n",
    "    - entre 500 et 1000 mètres : jaune\n",
    "    - entre 1000 et 1500 mètres : rouge\n",
    "    - au delà de 1500 mètres d'altitude : noir (équivalent : entre 1500 et 99999 mètres d'altitude)\n",
    "    \n",
    "    \n",
    "- La fenêtre pop-up contiendra les informations suivantes :\n",
    "    - code IATA de l'aéroport\n",
    "    - nom de l'aéroport\n",
    "    - nom de la ville\n",
    "    - code du pays\n",
    "     \n",
    "    \n",
    "Pour cela nous allons pour chacune des cinq plages d'altitude :\n",
    "- Créer une nouvelle table ne comportant que les aéroports ayant une altitude dans cette plage,\n",
    "- Pour chacun des aéroports de cette nouvelle table :\n",
    "    - Créer un dictionnaire ne comportant que les quatre paires clé-valeur à indiquer dans la pop-up\n",
    "    - Utiliser la fonction `ajouter_marqueur` pour placer l'aéroport correspondant sur la carte\n"
   ]
  },
  {
   "cell_type": "markdown",
   "metadata": {},
   "source": [
    "<div class=\"alert alert-info\">\n",
    "    \n",
    "<strong class='fa fa-cogs' style=\"color: darkorange\"> Question 2</strong>\n",
    "\n",
    "Compléter la fonction `extraire_aeroports_dans_plage` qui prend en paramètres :\n",
    "- une table d'aéroprts `table` comportant un champ `Altitude` exprimée en **pieds**,\n",
    "- une altitude minimale `alt_min` exprimée en **mètres**,\n",
    "- une altitude maximale `alt_max` exprimée en **mètres**,\n",
    "    \n",
    "et renvoie une table comportant tous les aéroports ayant une altitude comprise entre `alt_min` (compris) et `alt_max` (non compris)\n",
    "    \n",
    "\n",
    "**Remarque :** 1 pied = 0,3048 mètre, à utiliser pour convertir en mètres l'altitude des aéroports.\n",
    "\n",
    "**Remarque 2:** On pourra envisager l'utilisation des listes en compréhension\n",
    "</div>"
   ]
  },
  {
   "cell_type": "code",
   "execution_count": 8,
   "metadata": {},
   "outputs": [],
   "source": [
    "def extraire_aeroports_dans_plage(table, alt_min, alt_max):\n",
    "    # TODO\n",
    "    return table_extraite"
   ]
  },
  {
   "cell_type": "code",
   "execution_count": 9,
   "metadata": {},
   "outputs": [],
   "source": [
    "# Exécuter la fonction précédente et vérifier qu'il y a 14 aéroports entre 3000 et 3500 mètres d'altitude"
   ]
  },
  {
   "cell_type": "markdown",
   "metadata": {},
   "source": [
    "<div class=\"alert alert-info\">\n",
    "    \n",
    "<strong class='fa fa-cogs' style=\"color: darkorange\"> Question 3</strong>\n",
    "\n",
    "Compléter la fonction `creer_dict_popup` qui prend en paramètre :\n",
    "    \n",
    "- un dictionnaire `aeroport` contenant les neuf champs `Airport ID`, `Name`, `City etc.` , \n",
    "    \n",
    "et renvoie un dictionnaire ne comportant que les quatre champs à afficher dans la pop_up : `Name`, `City`, `Country_Code`, `IATA` .\n",
    "    \n",
    "Votre fonction devra vérifier l'assertion ci-dessous.\n",
    "</div>"
   ]
  },
  {
   "cell_type": "code",
   "execution_count": 10,
   "metadata": {},
   "outputs": [],
   "source": [
    "def creer_dict_popup(aeroport):\n",
    "    # TODO\n",
    "    return dico_extrait"
   ]
  },
  {
   "cell_type": "code",
   "execution_count": null,
   "metadata": {},
   "outputs": [],
   "source": [
    "assert(creer_dict_popup({'Airport_ID': '333096',\n",
    "                          'Name': 'Qilian Airport',\n",
    "                          'Type': 'medium_airport',\n",
    "                          'City': 'Qilian',\n",
    "                          'Country_Code': 'CN',\n",
    "                          'IATA': 'HBQ',\n",
    "                          'Latitude': '38.012',\n",
    "                          'Longitude': '100.644',\n",
    "                          'Altitude': '10377'}) \n",
    "                           ==\n",
    "                         {\n",
    "                           'Name': 'Qilian Airport',\n",
    "                           'City': 'Qilian',\n",
    "                           'Country_Code': 'CN',\n",
    "                           'IATA': 'HBQ' \n",
    "                         }\n",
    "                       )"
   ]
  },
  {
   "cell_type": "markdown",
   "metadata": {},
   "source": [
    "<div class=\"alert alert-info\">\n",
    "    \n",
    "<strong class='fa fa-cogs' style=\"color: darkorange\"> Question 4</strong>\n",
    "\n",
    "Compléter les fonctions `donner_latitude` et `donner_longitude` qui prennent en paramètre :\n",
    "    \n",
    "- un dictionnaire `aeroport` contenant les neuf champs `Airport ID`, `Name`, `City etc.` , \n",
    "    \n",
    "et renvoient respectivement la latitude et la longitude de l'aéroport sous forme d'un flottant de type `float`.\n",
    "    \n",
    "    \n",
    "Votre fonction devra vérifier l'assertion ci-dessous.\n",
    "</div>"
   ]
  },
  {
   "cell_type": "code",
   "execution_count": null,
   "metadata": {},
   "outputs": [],
   "source": [
    "def donner_latitude(aeroport):\n",
    "    pass\n",
    "\n",
    "\n",
    "def donner_longitude(aeroport):\n",
    "    pass"
   ]
  },
  {
   "cell_type": "code",
   "execution_count": null,
   "metadata": {},
   "outputs": [],
   "source": [
    "assert(donner_latitude({'Airport_ID': '333096',\n",
    "                          'Name': 'Qilian Airport',\n",
    "                          'Type': 'medium_airport',\n",
    "                          'City': 'Qilian',\n",
    "                          'Country_Code': 'CN',\n",
    "                          'IATA': 'HBQ',\n",
    "                          'Latitude': '38.012',\n",
    "                          'Longitude': '100.644',\n",
    "                          'Altitude': '10377'}) \n",
    "                           == \n",
    "                           38.012 )"
   ]
  },
  {
   "cell_type": "markdown",
   "metadata": {},
   "source": [
    "### 3.2 Première carte"
   ]
  },
  {
   "cell_type": "markdown",
   "metadata": {},
   "source": [
    "<div class=\"alert alert-info\">\n",
    "    \n",
    "<strong class='fa fa-cogs' style=\"color: darkorange\"> Question 5</strong>\n",
    "\n",
    "On dispose désormais de cinq fonctions :\n",
    "- `ajouter_marqueur`\n",
    "- `extraire_aeroports_dans_plage`\n",
    "- `creer_dict_popup`\n",
    "- `donner_latitude` \n",
    "- `donner_longitude`\n",
    "\n",
    "\n",
    "1) En utilisant ces cinq fonctions, compléter la cellule de code ci-dessous pour obtenir une carte avec les aéroports en bleu ayant une altitude entre 0 et 40 mètres.\n",
    "    \n",
    "    \n",
    "2) Compléter le code pour placer sur la carte les 4 autres catégories d'aéroports (40 --> 500  vert, 500-1000 --> jaune, 1000-1500 --> rouge, 1500-99999 --> noir)  \n",
    "    \n",
    "\n",
    "On pourra :\n",
    "- soit créer une fonction qui reprend le code du 2. et qu'on appelera cinq fois,\n",
    "- soit faire 4 Copier-Coller (solution moins élégante)\n",
    "</div>"
   ]
  },
  {
   "cell_type": "code",
   "execution_count": null,
   "metadata": {},
   "outputs": [],
   "source": [
    "table_aeroports = charger_fichier('./airports/airports.csv')\n",
    "\n",
    "#étape 1 : création de la carte  \n",
    "ma_carte = folium.Map(location=(45, 0), zoom_start=2)\n",
    "\n",
    "#étape 2 : ajout des marqueurs\n",
    "\n",
    "#à compléter (pas mal de ligne de code si vous optez pour la version bourrin)\n",
    "    \n",
    "\n",
    "#étape 3 : affichage de la carte\n",
    "ma_carte"
   ]
  },
  {
   "cell_type": "markdown",
   "metadata": {},
   "source": [
    "### 3.3 Amélioration qui nécessite une fusion de tables"
   ]
  },
  {
   "cell_type": "markdown",
   "metadata": {},
   "source": [
    "On souhaite afficher une variante de cette carte pour laquelle le code du nom du pays a été remplacé par son nom de pays selon la norme ISO-3166\n",
    "\n",
    "Pour ce dernier point, il convient de savoir que notre table aéroports respectait les noms de pays de la nomre ISO-3166 et que l'on dispose d'une table adéquate permettant d'assurer la correspondance :"
   ]
  },
  {
   "cell_type": "markdown",
   "metadata": {},
   "source": [
    "<div class=\"alert alert-info\">\n",
    "    \n",
    "<strong class='fa fa-cogs' style=\"color: darkorange\"> Importation des données </strong>\n",
    "\n",
    "1. Importer les données de la table `countries.csv` sousr la forme d'une liste de dictionnaires.<br/>\n",
    "Ces informations seront stockées dans une liste appelée `table_pays`.\n",
    "\n",
    "2. Compléter le code pour afficher la liste des descripteurs.\n",
    "</div>"
   ]
  },
  {
   "cell_type": "markdown",
   "metadata": {},
   "source": [
    "Nous allons fusionner la table des aéroports `table_aeroports` avec la table des pays `table_pays` afin d'obtenir une table fusionnée comportant tous les champs de la table `table_aeroports` plus le champ `Country_Name`"
   ]
  },
  {
   "cell_type": "markdown",
   "metadata": {},
   "source": [
    "\n",
    "Qu'est ce qu'une fusion de tables ? \n",
    "\n",
    "On donne ci-dessous des extraits des tables étudiées dans ce TP :\n",
    "\n",
    "| Airport_ID | Name | Type | City | Country_Code | IATA | Latitude | Longitude | Altitude |\n",
    "|:----------:|:----------:|:----------:|:----------:|:----------:|:----------:|:----------:|:----------:|:----------:|\n",
    "|333096 | Qilian Airport |medium_airport | Qilian | CN | HBQ | 38.012 | 100.644 | 10377 |\n",
    "|2596 | Sørkjosen Airport |medium_airport | Sørkjosen | NO | SOJ | 69.786796569824 | 20.959400177002 | 16 |\n",
    "\n",
    "| id | code | name | continent | wikipedia | keyword | \n",
    "|:----------:|:----------:|:----------:|:----------:|:----------:|:----------:|\n",
    "|302709 | NO |Norway | EU | https://en.wikipedia.org/wiki/Norway | Flyplasser i Norge | \n",
    "|302627 | CN |China | AS |https://en.wikipedia.org/wiki/China | ä¸­å›½çš„æœºåœº | \n",
    "\n",
    "Fusionner les tables c'est les regrouper en une seule en utilisant un descripteur commun et unique permettant d'associer les deux tables. Ici ce descripteur commun (même s'il n'a pas le même nom dans les deux tables) est le code du Pays.\n",
    "\n",
    "La table fusionnée serait alors :\n",
    "\n",
    "| Airport_ID | Name | Type | City | Country_Code | IATA | Latitude | Longitude | Altitude |id | name | contient | ... |\n",
    "|:----------:|:----------:|:----------:|:----------:|:----------:|:----------:|:----------:|:----------:|:----------:|:----------:|:----------:|:----------:|:----------:|\n",
    "|333096 | Qilian Airport |medium_airport | Qilian | CN | HBQ | 38.012 | 100.644 | 10377 | 302627  |China | AS |... |\n",
    "|2596 | Sørkjosen Airport |medium_airport | Sørkjosen | NO | SOJ | 69.786796569824 | 20.959400177002 | 16 |302709µ |Norway | EU |... |\n",
    "\n",
    "La fusion entre les deux tables peut être complète ou seulement avec quelques descripteurs de la seconde table.\n"
   ]
  },
  {
   "cell_type": "markdown",
   "metadata": {},
   "source": [
    "<div class=\"alert alert-info\">\n",
    "    \n",
    "<strong class='fa fa-cogs' style=\"color: darkorange\"> Question 6 </strong>\n",
    "\n",
    "Compléter le code de la fonction `fusionner` ci-dessous :\n",
    "- prenant en paramètre les tables `table_gauche` et `table_droite` \n",
    "    \n",
    "    \n",
    "- renvoyant une table `table_fusionnee` telle que :\n",
    "    - chaque dictionnaire de la table fusionnee comporte tous les champs de la table gauche `table_gauche` et uniquement le champ `name` de la `table_droite` renommé en champ `Country_Name`,\n",
    "    \n",
    "    - avec le champ `Country_Code` utilisé comme champ de fusion pour `table_gauche` et `code` comme champ de fusion pour `table_droite` \n",
    "    \n",
    "    \n",
    "(`table_gauche` sera la table des aéroports, `table_droite` sera la table des pays).\n",
    "    \n",
    "Voici un exemple d'enregistrement (de ligne) de la table fusionnée : on remarque le champ `Country_Name` en plus.\n",
    "\n",
    "```\n",
    "{'Airport_ID': '2596',\n",
    " 'Name': 'Sørkjosen Airport',\n",
    " 'Type': 'medium_airport',\n",
    " 'City': 'Sørkjosen',\n",
    " 'Country_Code': 'NO',\n",
    " 'IATA': 'SOJ',\n",
    " 'Latitude': '69.786796569824',\n",
    " 'Longitude': '20.959400177002',\n",
    " 'Altitude': '16',\n",
    " 'Country_Name': 'Norway'}    \n",
    "```\n",
    "</div>"
   ]
  },
  {
   "cell_type": "code",
   "execution_count": 25,
   "metadata": {},
   "outputs": [],
   "source": [
    "from copy import deepcopy\n",
    "\n",
    "def fusionner(table_gauche, table_droite):\n",
    "    table_fusion = []\n",
    "    # TODO     \n",
    "    return table_fusion"
   ]
  },
  {
   "cell_type": "markdown",
   "metadata": {},
   "source": [
    "<div class=\"alert alert-info\">\n",
    "    \n",
    "<strong class='fa fa-cogs' style=\"color: darkorange\"> Question 7 </strong>\n",
    "\n",
    "Mettre à jour la carte avec les nouveaux marqueurs.\n",
    "</div>"
   ]
  },
  {
   "cell_type": "code",
   "execution_count": null,
   "metadata": {},
   "outputs": [],
   "source": [
    "# à vous de jouer !"
   ]
  },
  {
   "cell_type": "markdown",
   "metadata": {},
   "source": [
    "### 3.4 Prolongement sur la fusion de tables"
   ]
  },
  {
   "cell_type": "markdown",
   "metadata": {},
   "source": [
    "<div class=\"alert alert-info\">\n",
    "    \n",
    "<strong class='fa fa-cogs' style=\"color: darkorange\"> Question 8 </strong>\n",
    "\n",
    "Reprendre la fonction `fusionner` précédent pour écrire le script d'une fonction `fusion_complete` qui réalise une fusion complète des deux tables précédentes.\n",
    "\n",
    "</div>"
   ]
  },
  {
   "cell_type": "code",
   "execution_count": 26,
   "metadata": {},
   "outputs": [],
   "source": [
    "from copy import deepcopy\n",
    "\n",
    "def fusion_complete(table_gauche, table_droite):\n",
    "    table_fusion = []\n",
    "    #TODO\n",
    "    return table_fusion"
   ]
  },
  {
   "cell_type": "code",
   "execution_count": null,
   "metadata": {},
   "outputs": [],
   "source": []
  }
 ],
 "metadata": {
  "kernelspec": {
   "display_name": "Python 3",
   "language": "python",
   "name": "python3"
  },
  "language_info": {
   "codemirror_mode": {
    "name": "ipython",
    "version": 3
   },
   "file_extension": ".py",
   "mimetype": "text/x-python",
   "name": "python",
   "nbconvert_exporter": "python",
   "pygments_lexer": "ipython3",
   "version": "3.7.4"
  }
 },
 "nbformat": 4,
 "nbformat_minor": 2
}
