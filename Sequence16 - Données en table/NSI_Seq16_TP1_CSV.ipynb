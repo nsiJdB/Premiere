{
 "cells": [
  {
   "cell_type": "markdown",
   "metadata": {},
   "source": [
    "# Séquence N°16 : Traitement des données en table\n",
    "# TP N°1 : Traitement de données en table sous Python - Initiation"
   ]
  },
  {
   "cell_type": "markdown",
   "metadata": {},
   "source": [
    "## 1. Lecture d'un fichier CSV en Python"
   ]
  },
  {
   "cell_type": "markdown",
   "metadata": {},
   "source": [
    "Dans cette partie nous allons travailler avec le fichier `donnees-hospitalieres-nouveaux-covid19-2020-06-04-19h00.csv`. Il faut donc le placer dans le même dossier que ce notebook."
   ]
  },
  {
   "cell_type": "markdown",
   "metadata": {},
   "source": [
    "### a) Import du cvs dans python sous forme de liste de listes"
   ]
  },
  {
   "cell_type": "markdown",
   "metadata": {},
   "source": [
    "Une première modélisation possible d'un tableau à double entrée est une liste de liste.\n",
    "\n",
    "L'import se fait en trois temps :\n",
    "* On crée un objet qui correspond au fichier (dans le code suivant, il s'agit de `fichier_csv`).\n",
    "* On crée un objet `lecteur_csv` correspondant au fichier transformé en enregistrements grâce à la méthode `reader`(programmation orientée objet).\n",
    "* On parcourt l'objet `lecteur_csv` et on stocke ces enregistrements dans la liste de listes.\n",
    "\n",
    "On donne ci-dessous le code d'une fonction `charger_csv` qui reçoit en paramètre un nom de fichier (type chaîne de caractères) et qui renvoie une liste de listes modélisant la table donnée en paramètre."
   ]
  },
  {
   "cell_type": "code",
   "execution_count": 8,
   "metadata": {},
   "outputs": [],
   "source": [
    "# Chargement de la bibliothèque Python permettant le lire un fichier CSV\n",
    "import csv\n",
    "\n",
    "def charger_csv(nom_fichier):\n",
    "    \"\"\"Fonction qui permet d'importer les données du fichier csv sous forme de liste de listes \n",
    "    param nom_fichier : nom du fichier à importer - type str\n",
    "    return liste : liste de listes\n",
    "    \"\"\"\n",
    "\n",
    "    table = []  # table à retourner\n",
    "\n",
    "    # import du fichier\n",
    "    with open(nom_fichier,  # nom du fichier\n",
    "              \"r\",          # ouverture en lecture\n",
    "              newline=\"\",   # évite les problèmes de codage du retour à la ligne\n",
    "              encoding=\"utf-8\"  # permet de forcer la lecture en utf-8\n",
    "              ) as fichier_csv:     # cvsfile représente désormais le fichier que nous venons d'ouvrir.\n",
    "        \n",
    "        # création du lecteur csv indiquant le caractère séparateur\n",
    "        lecteur_csv = csv.reader(fichier_csv, delimiter=\";\")\n",
    "        for enreg in lecteur_csv:  # boucle de parcours des enregistrements\n",
    "            # enreg est une liste de str contenant chaque ligne de l ' enregistrement\n",
    "            table.append(enreg)\n",
    "    return table"
   ]
  },
  {
   "cell_type": "markdown",
   "metadata": {},
   "source": [
    "Proposer ci-dessous une instruction permettant de charger, dans une liste appelée `donnees_hopitaux`, la table associée au fichier sur le COVID."
   ]
  },
  {
   "cell_type": "code",
   "execution_count": 27,
   "metadata": {},
   "outputs": [],
   "source": [
    "# à toi de jouer !"
   ]
  },
  {
   "cell_type": "markdown",
   "metadata": {},
   "source": [
    "<div class=\"alert alert-info\">\n",
    "    \n",
    "<strong class='fa fa-cogs' style=\"color: darkorange\"> Prise en main </strong>\n",
    "\n",
    "1. Que représente `donnees_hopitaux[0]` ?\n",
    "2. Que représente `donnees_hopitaux[1]` ?\n",
    "3. De quel type sont les données chargées dans la liste `donnees_hopitaux` ?\n",
    "4. Que représente `donnees_hopitaux[1][4]` ?\n",
    "</div>"
   ]
  },
  {
   "cell_type": "markdown",
   "metadata": {},
   "source": [
    "*Réponse aux questions 1 à 4*"
   ]
  },
  {
   "cell_type": "markdown",
   "metadata": {},
   "source": [
    "**Remarque :**\n",
    "Une autre écriture possible de la fonction précédente peut être :"
   ]
  },
  {
   "cell_type": "code",
   "execution_count": 26,
   "metadata": {},
   "outputs": [],
   "source": [
    "# Chargement de la bibliothèque Python permettant le lire un fichier CSV\n",
    "import csv\n",
    "\n",
    "def charger_csv(nom_fichier):\n",
    "    \"\"\"Fonction qui permet d'importer les données du fichier csv sous forme de liste de listes \n",
    "    param nom_fichier : nom du fichier à importer - type str\n",
    "    return liste : liste de listes\n",
    "    \"\"\"\n",
    "\n",
    "    table = []  # table à retourner\n",
    "\n",
    "    # ouverture du fichier CSV\n",
    "    fichier_csv = open(nom_fichier, \"r\", newline=\"\", encoding=\"utf-8\") # On ouvre le fichier avec les mêmes paramétres que précédemment\n",
    "    lecteur_csv = csv.reader(fichier_csv, delimiter=\";\")\n",
    "    for enreg in lecteur_csv:  # boucle de parcours des enregistrements\n",
    "        # enreg est une liste de str contenant chaque ligne de l'enregistrement\n",
    "        table.append(enreg)\n",
    "    fichier_csv.close() # Avec ce code, il faut fermer le fichier après la lecture.\n",
    "    return table"
   ]
  },
  {
   "cell_type": "markdown",
   "metadata": {},
   "source": [
    "Cette structure de données (liste de liste) présente un inconvénient majeur. Si on souhaite connaître la date associée à `donnees_hopitaux[1]` il faut connaître l'indice auquel se trouve cette information dans la liste. \n",
    "Pour palier à ce problème on peut utiliser une structure de données : les listes de dictionnaires."
   ]
  },
  {
   "cell_type": "markdown",
   "metadata": {},
   "source": [
    "### b) Import du cvs dans python sous forme d'une liste de dictionnaires."
   ]
  },
  {
   "cell_type": "markdown",
   "metadata": {},
   "source": [
    "On souhaite cette fois ci modéliser le tableau par une liste de dictionnaires où les clés des dictionnaires sont les descripteurs du tableau.\n",
    "\n",
    "Comme pour le cas des listes de listes, l'import se fait en trois temps :\n",
    "* On crée un objet qui correspond au fichier (dans le code suivant, il s'agit de `fichier_csv`).\n",
    "* On crée un objet `lecteur_csv` correspondant au fichier transformé en enregistrements grâce à la méthode `DictReader`(programmation orientée objet).\n",
    "* On parcourt l'objet `lecteur_csv` et on stocke ces enregistrements dans la liste de listes."
   ]
  },
  {
   "cell_type": "code",
   "execution_count": 30,
   "metadata": {},
   "outputs": [],
   "source": [
    "def charger_csv_dict(nom_fichier):\n",
    "    \"\"\"Fonction qui permet d'importer les données du fichier csv sous forme de liste de listes \n",
    "    param nom_fichier : nom du fichier à importer - type str\n",
    "    return liste_dicos : liste de dictionnaires\n",
    "    \"\"\"\n",
    "\n",
    "    liste_dicos = []  # table à retourner\n",
    "\n",
    "    # import du fichier\n",
    "    with open(nom_fichier, \"r\", newline=\"\", encoding=\"utf-8\") as fichier_csv:\n",
    "        lecteur_csv = csv.DictReader(fichier_csv, delimiter=\";\") #le changement est ici par rapport à la structure précédente\n",
    "        for enreg in lecteur_csv:  # boucle de parcours des enregistrements\n",
    "            # enreg est une liste de str contenant chaque ligne de l ' enregistrement\n",
    "            liste_dicos.append(dict(enreg))\n",
    "    return liste_dicos"
   ]
  },
  {
   "cell_type": "markdown",
   "metadata": {},
   "source": [
    "Proposer ci-dessous une instruction permettant de charger, dans une liste appelée `donnees_hopitaux`, la table associée au fichier sur le COVID."
   ]
  },
  {
   "cell_type": "code",
   "execution_count": 38,
   "metadata": {},
   "outputs": [],
   "source": [
    "# TODO"
   ]
  },
  {
   "cell_type": "markdown",
   "metadata": {},
   "source": [
    "<div class=\"alert alert-info\">\n",
    "    \n",
    "<strong class='fa fa-cogs' style=\"color: darkorange\"> Prise en main </strong>\n",
    "\n",
    "1. Que représente `donnees_hopitaux[0]` ?\n",
    "2. Que représente `donnees_hopitaux[1]` ?\n",
    "3. Comment récupérer Nombre quotidien de personnes nouvellement dans le départemet 01 le 19/03/2020 ?\n",
    "</div>"
   ]
  },
  {
   "cell_type": "markdown",
   "metadata": {},
   "source": [
    "**Remarque :**\n",
    "Une autre écriture possible de la fonction précédente peut être :"
   ]
  },
  {
   "cell_type": "code",
   "execution_count": 56,
   "metadata": {},
   "outputs": [],
   "source": [
    "# Chargement de la bibliothèque Python permettant le lire un fichier CSV\n",
    "import csv\n",
    "\n",
    "def charger_csv_dict(nom_fichier):\n",
    "    \"\"\"Fonction qui permet d'importer les données du fichier csv sous forme de liste de listes \n",
    "    param nom_fichier : nom du fichier à importer - type str\n",
    "    return liste_dicos : liste de dictionnaires\n",
    "    \"\"\"\n",
    "\n",
    "    liste_dicos = []  # table à retourner\n",
    "\n",
    "    # import du fichier\n",
    "    fichier_csv = open(nom_fichier, \"r\", newline=\"\", encoding=\"utf-8\")\n",
    "    lecteur_csv = csv.DictReader(fichier_csv, delimiter=\";\")\n",
    "    for enreg in lecteur_csv:  # boucle de parcours des enregistrements\n",
    "        # enreg est une liste de str contenant chaque ligne de l'enregistrement\n",
    "        liste_dicos.append(dict(enreg))\n",
    "    fichier_csv.close() # Avec ce code, il faut fermer le fichier après la lecture.\n",
    "    return liste_dicos"
   ]
  },
  {
   "cell_type": "markdown",
   "metadata": {},
   "source": [
    "## 2. Traitement de données"
   ]
  },
  {
   "cell_type": "markdown",
   "metadata": {},
   "source": [
    "Maintenant que nous savons charger le contenu d'une fichier CSV dans une structure adaptée (liste de listes ou liste de dictionnaires), nous allons maintenant traiter les informations contenues dans cette table.\n",
    "\n",
    "Pour répondre aux questions suivantes, nous allons utiliser comme structure la liste de dictionnaires."
   ]
  },
  {
   "cell_type": "markdown",
   "metadata": {},
   "source": [
    "<div class=\"alert alert-info\">\n",
    "    \n",
    "<strong class='fa fa-cogs' style=\"color: darkorange\"> Question 1 </strong>\n",
    "\n",
    "1. Proposer le code d'une fonction `nb_rea` qui reçoit en paramètres une liste de dictionnaires et qui retourne le nombre total de personnes admises en réanimation sur l'ensemble de enregistrements.<br/>\n",
    "Vérifier à l'aide d'un `assert` que ce nombre est de 17642.\n",
    "\n",
    "2. Proposer le code d'une fonction `nb_rea_date` qui reçoit en paramètres une liste de dictionnaires et qui retourne le nombre total de personnes admises en réanimation pour une date donnée.<br/>\n",
    "Vérifier à l'aide d'un `assert` que ce nombre est de 208 pour le 20 avril 2020.\n",
    "\n",
    "</div>"
   ]
  },
  {
   "cell_type": "code",
   "execution_count": null,
   "metadata": {},
   "outputs": [],
   "source": [
    "def nb_rea(liste):\n",
    "    pass\n",
    "\n",
    "def nb_rea_date(liste, date):\n",
    "    pass"
   ]
  },
  {
   "cell_type": "markdown",
   "metadata": {},
   "source": [
    "<div class=\"alert alert-info\">\n",
    "    \n",
    "<strong class='fa fa-cogs' style=\"color: darkorange\"> Question 2 </strong>\n",
    "\n",
    "Proposer un script Python permettant de déterminer la date du pic de l'épidémie dans les hopitaux en terme d'admission de patients infectés par le COVID-19 en réanimation.\n",
    "\n",
    "</div>"
   ]
  },
  {
   "cell_type": "code",
   "execution_count": null,
   "metadata": {},
   "outputs": [],
   "source": [
    "# A vous de jouer !"
   ]
  },
  {
   "cell_type": "markdown",
   "metadata": {},
   "source": [
    "<div class=\"alert alert-info\">\n",
    "    \n",
    "<strong class='fa fa-cogs' style=\"color: darkorange\"> Question 3 </strong>\n",
    "\n",
    "On souhaite déterminer les départements et les jours durant lesquels les admissions en réanimation étaient supérieurs à 60.\n",
    "L'information sera données sur la forme d'une liste de tuple où les tupes seront de la forme `(departement, date)`.<br/>\n",
    "\n",
    "Idéalement cette liste pourra être créée par compréhension :).\n",
    "\n",
    "</div>"
   ]
  },
  {
   "cell_type": "code",
   "execution_count": 64,
   "metadata": {},
   "outputs": [],
   "source": [
    "# Courage ... ça tient en une ligne :)"
   ]
  },
  {
   "cell_type": "markdown",
   "metadata": {},
   "source": [
    "<div class=\"alert alert-info\">\n",
    "    \n",
    "<strong class='fa fa-cogs' style=\"color: darkorange\"> Question 4 </strong>\n",
    "\n",
    "Proposer un script Python d'une fonction `max_rea` qui reçoit en paramètre la table des données de l'épidémie et qui renvoie, sous la forme d'un tuple,\n",
    "la date et le département où le nombre d'admission en réanimation a été le plus élève. Vous pourrez comparer votre résultat aec celui obtenu avec le tableur.\n",
    "</div>"
   ]
  },
  {
   "cell_type": "code",
   "execution_count": 69,
   "metadata": {},
   "outputs": [],
   "source": [
    "def max_rea(liste):\n",
    "    pass"
   ]
  },
  {
   "cell_type": "markdown",
   "metadata": {},
   "source": [
    "## 3. Petit exercice pour finir sur d'autres données"
   ]
  },
  {
   "cell_type": "markdown",
   "metadata": {},
   "source": [
    "<div class=\"alert alert-info\">\n",
    "    \n",
    "<strong class='fa fa-cogs' style=\"color: darkorange\"> Exercice 4 </strong>\n",
    "\n",
    "On s'intéresse au fichier `villes.csv` qui contient des informations sur les 36700 communes de France.\n",
    "\n",
    "1. Après avoir déterminer le séparateur utilisé dans ce fichier CSV, l'importer l'ensemble des enregistrements dans une variable `liste_communes` dont la structure de données sera une liste de dictionnaires.\n",
    "2. Proposer le script d'une fonction `caract_commune` qui \n",
    "    * reçoit en paramètres `liste_communes` et une commune (sous forme de chaîne de caractères)\n",
    "    * qui renvoie les caractéristiques de cette commune sous la forme d'une dictionnaire.\n",
    "    \n",
    "3. Proposer un script permettant de déterminer la commune ayant la plus grande altitude maximale. <br/>\n",
    "Attention certaines communes n'ont pas d'altitude max de renseignée ...\n",
    "\n",
    "</div>"
   ]
  },
  {
   "cell_type": "code",
   "execution_count": null,
   "metadata": {},
   "outputs": [],
   "source": [
    "# Importation du contenu du fichier CSV à faire ici"
   ]
  },
  {
   "cell_type": "code",
   "execution_count": null,
   "metadata": {},
   "outputs": [],
   "source": [
    "def caract_commune(liste_communes, commune):\n",
    "    pass\n",
    "\n",
    "# Tester cette fonction avec votre commune"
   ]
  },
  {
   "cell_type": "code",
   "execution_count": 70,
   "metadata": {},
   "outputs": [],
   "source": [
    "# Script pour la question 3"
   ]
  }
 ],
 "metadata": {
  "kernelspec": {
   "display_name": "Python 3",
   "language": "python",
   "name": "python3"
  },
  "language_info": {
   "codemirror_mode": {
    "name": "ipython",
    "version": 3
   },
   "file_extension": ".py",
   "mimetype": "text/x-python",
   "name": "python",
   "nbconvert_exporter": "python",
   "pygments_lexer": "ipython3",
   "version": "3.7.4"
  }
 },
 "nbformat": 4,
 "nbformat_minor": 2
}
