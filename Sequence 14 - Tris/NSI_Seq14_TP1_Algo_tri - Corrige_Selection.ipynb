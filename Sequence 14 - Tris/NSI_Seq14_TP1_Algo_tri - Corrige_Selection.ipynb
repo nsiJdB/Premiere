{
 "cells": [
  {
   "cell_type": "markdown",
   "metadata": {},
   "source": [
    "# TP - Sequence N°14 - Algorithmes de Tris\n"
   ]
  },
  {
   "cell_type": "markdown",
   "metadata": {},
   "source": [
    "<center><b>Le tri est une activité fondamentale et omniprésente de l'informatique.</b></center>\n",
    "\n",
    "<img src='tri.jpg' width=200> \n",
    "\n",
    "* On l'utilise régulièrement, par exemple :\n",
    "   * Lorsque l'on consulte sur Internet des listes de produits que l'on souhaite afficher par prix croissant ou décroissant, par popularité...\n",
    "   * Lorsque dans un tableur on souhaite trier des noms par ordre alphabétique\n",
    "   * Lorsque l'on affiche ses photos par date\n",
    "\n",
    "\n",
    "* Cela permet d'étudier des concepts algorithmiques puissants et efficaces\n",
    "\n",
    "\n",
    "* <b>Pour simplifier, on cherche ici à trier des liste d'entiers dans l'ordre croissant. Le but d’un algorithme de tri est ainsi de créer une nouvelle liste, ou\n",
    "de modifier la liste initiale, de manière à ce qu’elle contienne les mêmes\n",
    "nombres que la liste de départ, mais que ces éléments soient ordonnés.</b>"
   ]
  },
  {
   "cell_type": "markdown",
   "metadata": {},
   "source": [
    "<div class=\"alert alert-info\">\n",
    "    \n",
    "<strong class='fa fa-cogs' style=\"color: darkorange\"> Question préliminaire </strong>\n",
    "\n",
    "Ecrire une fonction `liste_alea` qui reçoit en paramètre un entier `n` et qui retourne une liste de taille `n` d'entiers aléatoires compris entre -32 et 32.\n",
    "</div>"
   ]
  },
  {
   "cell_type": "code",
   "execution_count": 4,
   "metadata": {},
   "outputs": [
    {
     "data": {
      "text/plain": [
       "[23, 4, 16, 10, 24]"
      ]
     },
     "execution_count": 4,
     "metadata": {},
     "output_type": "execute_result"
    }
   ],
   "source": [
    "import random\n",
    "\n",
    "def liste_alea(n):\n",
    "    return [random.randint(-32, 32) for _ in range(n)] \n",
    "\"\"\"\n",
    "def liste_alea(n):\n",
    "    liste = []\n",
    "    for i in range(n):\n",
    "        liste.append(random.randint(-32, 32))\n",
    "    return liste\n",
    "\"\"\"\n",
    "liste_alea(5)"
   ]
  },
  {
   "cell_type": "markdown",
   "metadata": {},
   "source": [
    "De quoi dispose un ordinateur pour trier ?\n",
    "\n",
    "* Une fonction de comparaison ( $<$ , $>$ ), pour comparer deux valeurs.\n",
    "* Des zones de stockage pour mémoriser des emplacements (à l'aide de l'index des éléments d'une liste), déplacer des valeurs...\n",
    "* Il existe des dizaines d'algorithmes de tri, nous allons en étudier 2 cette année : \n",
    "  * **Le tri par sélection.**\n",
    "  * **Le tri par insertion.**"
   ]
  },
  {
   "cell_type": "markdown",
   "metadata": {},
   "source": [
    "## 1. Tri par sélection"
   ]
  },
  {
   "cell_type": "markdown",
   "metadata": {},
   "source": [
    "<img src='Selection-Sort.gif' width='400'>\n",
    "\n",
    "### 1.a) Présentation \n",
    "* On commence par chercher, parmi les nombres à trier, un élément plus petit que tous les autres. Cet élément sera le premier de la liste triée. \n",
    "* On cherche ensuite, parmi ceux qui restent, un élément plus petit que tous les autres, qui sera le deuxième du tableau trié\n",
    "* On recommence pour trouver le troisième élément trié et ainsi de suite jusqu'à ce que toute la liste soit triée.\n",
    "\n",
    "\n",
    "#### Exemple : \n",
    "\n",
    "On cherche à trier la liste suivante : `[29, -6, 12, -11, 10]`\n",
    "\n",
    "* Le plus petit élement est $-11$, on le place au premier index 0\n",
    "* Que fait-on du $29$ ? Il prend la place de $-11$, la liste devient donc : `[-11,-6,12,29,10]`\n",
    "* Le plus petit des élements restants à trier est $-6$, il est déjà bien placé à l'index 1.\n",
    "* Le plus petit des élements restants à trier est $10$, on le place en troisième position (index 2).\n",
    "* Que fait-on du $12$ ? Il prend la place de $10$, la liste devient donc : `[-11,-6,10,29,12]`\n",
    "* Le plus petit des élements restants à trier est $12$, on le place en quatrième position (index 3).\n",
    "* Que fait-on du $29$ ? Il prend la place de $12$, la liste devient donc : `[-11,-6,10,12,29]`\n",
    "* Le dernier élément est nécéssairement le plus grand, la liste est triée."
   ]
  },
  {
   "cell_type": "markdown",
   "metadata": {},
   "source": [
    "<div class=\"alert alert-info\">\n",
    "    \n",
    "<strong class='fa fa-cogs' style=\"color: darkorange\"> Exercice 1 </strong>\n",
    "\n",
    "En indiquant les listes intermédiaires, trier la liste par sélection les listes \n",
    "* `liste1 = [5, -27, -14, 10, 7]`\n",
    "* `liste2 = [30, 24, -7, -19, 26, 21, -18]`\n",
    "</div>"
   ]
  },
  {
   "cell_type": "markdown",
   "metadata": {},
   "source": [
    "1. Pour la liste 1:\n",
    "    * `[5, -27, -14, 10, 7]`\n",
    "    * `[-27, 5, -14, 10, 7]`\n",
    "    * `[-27, -14, 5, 10, 7]`\n",
    "    * `[-27, -14, 5, 10, 7]`\n",
    "    * `[-27, -14, 5, 7, 10]`\n",
    " \n",
    "\n",
    "2. Pour la liste 2:\n",
    "   * `[30, 24, -7, -19, 26, 21, -18]`\n",
    "   * `[-19, 24, -7, 30, 26, 21, -18]`\n",
    "   * `[-19, -18, -7, 30, 26, 21, 24]`\n",
    "   * `[-19, -18, -7, 21, 26, 30, 24]`\n",
    "   * `[-19, -18, -7, 21, 24, 30, 26]`\n",
    "   * `[-19, -18, -7, 21, 24, 26, 30]`\n"
   ]
  },
  {
   "cell_type": "markdown",
   "metadata": {},
   "source": [
    "### 1.b) Programmation de l'algorithme"
   ]
  },
  {
   "cell_type": "markdown",
   "metadata": {},
   "source": [
    "#### Recherche du minimum et échange\n",
    "La première étape de l'algorithme est de rechercher le minimum de la liste et d'échanger sa place avec le premier élément: "
   ]
  },
  {
   "cell_type": "markdown",
   "metadata": {},
   "source": [
    "$(1)\\; L \\; est\\;une\\;liste\\\\\n",
    "(2)\\; indexmin \\leftarrow 0\\\\\n",
    "(3)\\; Pour\\; j\\; de \\;1\\;à \\; index\\;du\\;dernier\\;élément\\;de\\;L \\\\\n",
    "(4)\\; \\; \\; \\; \\;  Si\\; L[j]<L[indexmin] \\\\\n",
    "(5) \\; \\; \\; \\; \\; \\; \\; \\;\\;indexmin \\leftarrow j \\\\\n",
    "(6)\\; Echange\\;des\\;positions\\;de\\;L[0]\\;et\\;L[indexmin]$\n",
    "\n"
   ]
  },
  {
   "cell_type": "markdown",
   "metadata": {},
   "source": [
    "<div class=\"alert alert-info\">\n",
    "    \n",
    "<strong class='fa fa-cogs' style=\"color: darkorange\"> Premiers pas vers la conception de l'algorithme </strong>\n",
    "\n",
    "1. Que représente la variable `indexmin` ?\n",
    "2. Expliquer la ligne 6 de l'algorithme.\n",
    "3. En remplaçant les commentaires, programmer cet algorithme.\n",
    "</div>"
   ]
  },
  {
   "cell_type": "markdown",
   "metadata": {},
   "source": [
    "*Saisir ici réponse Q1*\n",
    "\n",
    "A la fin de l'algorithme, la variable `indexmin` représente l'index du plus petit élément de la liste."
   ]
  },
  {
   "cell_type": "markdown",
   "metadata": {},
   "source": [
    "*Saisir ici réponse Q2*\n",
    "\n",
    "A cette ligne, on échange le minimum de la liste avec le premier élément."
   ]
  },
  {
   "cell_type": "code",
   "execution_count": 10,
   "metadata": {},
   "outputs": [
    {
     "name": "stdout",
     "output_type": "stream",
     "text": [
      "[-3, -31, -16, -6, 15]\n",
      "[-31, -3, -16, -6, 15]\n"
     ]
    }
   ],
   "source": [
    "# Générer ici une liste L aléatoire de 5 entiers compris entre -32 et 32\n",
    "L = liste_alea(5)\n",
    "print(L)\n",
    "# Afficher l'état initial de la iste\n",
    "\n",
    "indexmin = 0\n",
    "for j in range(1, len(L)):\n",
    "    if L[j] < L[indexmin]:\n",
    "        indexmin = j\n",
    "L[0], L[indexmin] = L[indexmin], L[0]\n",
    "\n",
    "print(L)\n",
    "\n",
    "# Afficher l'état final de la liste"
   ]
  },
  {
   "cell_type": "markdown",
   "metadata": {},
   "source": [
    "<div class=\"alert alert-info\">\n",
    "    \n",
    "<strong class='fa fa-cogs' style=\"color: darkorange\"> Deuxième pas vers l'algorithme </strong>\n",
    "\n",
    "On suppose que le minimum de la liste est désormais le premier élément. L'étape suivante est d'identifier le plus petit élément parmi ceux restant à trier et de le placer en deuxième position.\n",
    "\n",
    "1. Recopier et modifier l'algorithme précédent en ce sens. On utilisera la liste`[-29, 24, 31, -15, 8]`. l'instruction`print(L)` doit renvoyer `[-29, -15, 31, 24, 8]`.\n",
    "2. Quel est le rôle de l'algorithme conçu ?\n",
    "3. Que doit-on modifier pour trouver le troisième élement de la liste triée ?\n",
    "</div>"
   ]
  },
  {
   "cell_type": "code",
   "execution_count": 7,
   "metadata": {},
   "outputs": [
    {
     "name": "stdout",
     "output_type": "stream",
     "text": [
      "[-29, -15, 31, 24, 8]\n"
     ]
    }
   ],
   "source": [
    "# Question 1\n",
    "L=[-29, 24, 31, -15, 8]\n",
    "\n",
    "indexmin = 1\n",
    "for j in range(2, len(L)):\n",
    "    if L[j] < L[indexmin]:\n",
    "        indexmin = j\n",
    "L[1], L[indexmin] = L[indexmin], L[1]\n",
    "\n",
    "print(L)\n"
   ]
  },
  {
   "cell_type": "markdown",
   "metadata": {},
   "source": [
    "*Saisir ici la réponse à Q2*\n",
    "\n",
    "L'agorithme cherche le plus petit element de la liste `L[1:len(l)-1]` et place le plus petit elt en première position càd à l'indice 1."
   ]
  },
  {
   "cell_type": "markdown",
   "metadata": {},
   "source": [
    "*Saisir ici la réponse à Q3*\n",
    "\n",
    " Pour trouver le troisième élément trié , il faut :\n",
    "   * Initialiser la variable `indexmin` à 2\n",
    "   * Parcourir la liste à partir de  l'index 3 pour trouver le plus petit des éléments non triés \n",
    "   * Echanger `L[2]` avec le minimum trouvé"
   ]
  },
  {
   "cell_type": "markdown",
   "metadata": {},
   "source": [
    "#### Algorithme du tri par sélection"
   ]
  },
  {
   "cell_type": "markdown",
   "metadata": {},
   "source": [
    "<div class=\"alert alert-info\">\n",
    "    \n",
    "<strong class='fa fa-cogs' style=\"color: darkorange\"> Ca y est faisons l'algorithme de tri ! </strong>\n",
    "\n",
    "La fonction `tri_select(tab)` prend en paramètre une liste `tab` d'entiers et doit renvoyer cette liste triée par sélection.\n",
    "En vous aidant des résultats précédents, compléter cette fonction en remplaçant les `?`.\n",
    "\n",
    "Proposer des jeux de tests et exécuter la fonction pour une liste aléatoire d'entiers.</div>"
   ]
  },
  {
   "cell_type": "code",
   "execution_count": 14,
   "metadata": {},
   "outputs": [
    {
     "name": "stdout",
     "output_type": "stream",
     "text": [
      "[-27, 14, 13, -10, 26]\n",
      "[-27, -10, 13, 14, 26]\n"
     ]
    }
   ],
   "source": [
    "#Algorithme de tri par sélection\n",
    "def tri_select(tab):\n",
    "    for i in range(len(tab)):\n",
    "        imin = i\n",
    "        for j in range(i+1, len(tab)):\n",
    "            if tab[j] < tab[imin]:\n",
    "                imin = j\n",
    "                \n",
    "        tab[i], tab[imin] = tab[imin], tab[i]\n",
    "    \n",
    "    return tab\n",
    "\n",
    "L = liste_alea(5)\n",
    "print(L)\n",
    "print(tri_select(L))\n",
    "\n",
    "assert tri_select([0]) == [0]\n",
    "assert tri_select([2,1]) == [1,2]\n",
    "assert tri_select([3,1,3,0]) == [0,1,3,3]\n"
   ]
  },
  {
   "cell_type": "markdown",
   "metadata": {},
   "source": [
    "#### Correction"
   ]
  },
  {
   "cell_type": "markdown",
   "metadata": {},
   "source": [
    "<div class=\"alert alert-info\">\n",
    "    \n",
    "<strong class='fa fa-cogs' style=\"color: darkorange\"> Vérifions qu'il fonctionne ! </strong>\n",
    "\n",
    "1. Démontrer la terminaison de l'algorithme.\n",
    "2. Démontrer la correction de cet algorithme.<br/>\n",
    "On utilisera comme invariant de boucle \"à la fin de l’étape `i`ème (`i` commençant à 0), `tab[0:i]` coïncide avec les `i` premiers éléments de la liste triée\".\n",
    "</div>"
   ]
  },
  {
   "cell_type": "markdown",
   "metadata": {},
   "source": [
    "1. Terminaison est démontrée très rapidement car les boucles pour sont finies. On a la garantie de la terminaison de l'algorithme. <br/>\n",
    "Si on veut citer un variant de boucle on peut citer `n-i` qui est bien positif et qui décroit strictement à chaque itération de la première boucle pour.\n",
    "\n",
    "2. Invariant de boucle \"à la fin de l’étape `i`ème (`i` commençant à 0), `tab[0:i]` coïncide avec les `i` premiers éléments de la liste triée\".\n",
    "\n",
    "**Initialisation** :<br/>\n",
    "Le premier passage (0ème passage) dans la boucle on a i = 0\n",
    "A la fin du premier passage, `tab[0:i]` vaut `tab[0]`. A la fin des passages succesives dans la boucle pour des lignes 5 à 7, `tab[0]` contiendra le plus petit élément de la liste initiale.\n",
    "L'invariant est vérifié avant d'entrer dans la boucle.\n",
    "\n",
    "**Vérification en sortie de boucle**:<br/>\n",
    "Supposons au `i`ème tour de boucle que l’invariant est vrai.<br/>\n",
    "Montrons qu’il reste vrai au tour de boucle suivant.\n",
    "`tab[0:i]` est trié.<br/> \n",
    "La boucle des lignes 5 à 7 recherche le plus petit élément ayant un index supérieur strictement à i.<br/>\n",
    "On l’échange avec l’élément d’index `i + 1`.<br/>\n",
    "Alors `tab[0:i + 1]` est triée. L’invariant est donc encore valable. \n",
    "\n",
    "**Conclusion :**<br/>\n",
    "En sortie de boucle (fin du passage dans la `n-1`ième boucle, on a `i = n-1`.<br/>\n",
    "L'invariant de boucle est alors `tab[0:n-1]` est triée d'où le résultat !"
   ]
  },
  {
   "cell_type": "markdown",
   "metadata": {},
   "source": [
    "### 1.c) Etude de la complexité du tri par sélection"
   ]
  },
  {
   "cell_type": "markdown",
   "metadata": {},
   "source": [
    "<div class=\"alert alert-info\">\n",
    "    \n",
    "<strong class='fa fa-cogs' style=\"color: darkorange\"> Complexité tri sélection </strong>\n",
    "\n",
    "1. Combien d'opérations sont réalisées lors du premier passage dans la boucle `for i in range ...`\n",
    "2. Combien d'opérations sont réalisées lors du deuxième passage dans la boucle `for i in range ...`\n",
    "3. Combien d'opérations sont réalisées lors du troisième passage dans la boucle `for i in range ...`\n",
    "4. Combien d'opérations sont réalisées trier toute la liste ?\n",
    "5. En déduire la classe de complexité de l'algorithme de tri par sélection.\n",
    "</div>"
   ]
  },
  {
   "cell_type": "markdown",
   "metadata": {},
   "source": [
    "*Réponses :*\n",
    "Pour simplifier, ne comptons pas les opérations dans 'for i in range(...)`.<br/>\n",
    "On note `n` la longueur de la liste.\n",
    "1. Il y a 2 opérations en dehors de la boucle de la ligne 5 et 2 opérations dedans qui sont répétées `n-1`fois car `j`varie de `1` à `n-1`.<br/>\n",
    "Au total, il y a $2(n-1)+2$ opérations.\n",
    "\n",
    "2. Il y a 2 opérations en dehors de la boucle de la ligne 5 et 2 opérations dedans qui sont répétées `n-2`fois car `j`varie de `2` à `n-1`.<br/>\n",
    "Au total, il y a $2(n-2)+2$ opérations.\n",
    "\n",
    "3. Il y a  opérations en dehors de la boucle de la ligne 5 et 2 opérations dedans qui sont répétées `n-3`fois car `j`varie de `3` à `n-1`.<br/>\n",
    "Au total, il y a $2(n-3)+2$ opérations.\n",
    "\n",
    "4. Lors du dernier passage dans la boucle, il y a 2 opérations en dehors de la boucle de la ligne 5 et 2 opérations dedans qui sont répétées `1`fois car `j`varie de `n-1` à `n-1`.<br/>\n",
    "Au total, il y a $2\\times 1+1$ opérations.<br/>\n",
    "Au total, il y a donc :<br/>\n",
    "$2(n-1)+2 + 2(n-2)+2 + 2(n-3)+2+ \\dots + 2\\times 1+2 = 2 (1 + 2+ \\dots (n-2) + (n-1)) + 2(n-1)$.<br/>\n",
    "Or $1 + 2+ \\dots (n-2) + (n-1) = \\cfrac{n(n-1)}{2}$<br/>\n",
    "Par conséquent,<br/>\n",
    "$2(n-1)+2 + 2(n-2)+2 + 2(n-3)+2+ \\dots + 2\\times 1+2 = 2 \\times \\cfrac{n(n-1)}{2} + 2(n-1) = n(n-1) + 2(n-1) = n^2+n-2$.<br/>\n",
    "L'ordre de complexité dans le pire des cas est donc $O\\left(n^2\\right)$, la complexité est d'ordre quadratique."
   ]
  },
  {
   "cell_type": "markdown",
   "metadata": {},
   "source": [
    "# 2. Tri par insertion"
   ]
  },
  {
   "cell_type": "markdown",
   "metadata": {},
   "source": [
    "<img align='center' src='Insertion-Sort.gif' width=400>\n",
    "\n",
    "### Présentation\n",
    "\n",
    "* C'est celui que l'on utilise intuitivement lorsque l'on trie des cartes à jouer dans sa main.\n",
    "* Dans une liste, on commence par trier les deux premiers élements en insérant éventuellement le deuxième élément en première position.\n",
    "* On insère tour à tour chaque élément non trié à sa place dans l'ensemble déjà trié précédemment.\n",
    "\n",
    "#### Exemple : \n",
    "\n",
    "On cherche à trier la liste suivante : `[29, -6, 12, -11, 10]`.\n",
    "\n",
    "* On insère $-6$ en première position `[ -6, 29, 12, -11, 10]`\n",
    "* On insère $12$ en deuxième position `[ -6, 12, 29, -11, 10]`\n",
    "* On insère $-11$ en première position `[ -11, -6, 12, 29, 10]`\n",
    "* On insère $10$ en troisième position `[ -11, -6, 10, 12, 29]`"
   ]
  },
  {
   "cell_type": "markdown",
   "metadata": {},
   "source": [
    "<div class=\"alert alert-info\">\n",
    "    \n",
    "<strong class='fa fa-cogs' style=\"color: darkorange\"> Exercice 2 </strong>\n",
    "\n",
    "En indiquant les listes intermédiaires, trier la liste par sélection les listes \n",
    "* `liste1 = [5, -27, -14, 10, 7]`\n",
    "* `liste2 = [30, 24, -7, -19, 26, 21, -18]`\n",
    "</div>"
   ]
  },
  {
   "cell_type": "markdown",
   "metadata": {},
   "source": [
    "1. Pour la liste 1:\n",
    "    *   \n",
    "    *  \n",
    "    *  \n",
    " \n",
    "\n",
    "2. Pour la liste 2:\n",
    "    *   \n",
    "    *  \n",
    "    *  \n",
    "    *  \n",
    "    *  \n",
    "    *  "
   ]
  },
  {
   "cell_type": "markdown",
   "metadata": {},
   "source": [
    "### Programmation de l'algorithme"
   ]
  },
  {
   "cell_type": "markdown",
   "metadata": {},
   "source": [
    "#### Insérer l'élément d'index `i`\n",
    " \n",
    "* Sauvegarder `L[i]` dans une variable.\n",
    "* Parcourir la partie de la liste déjà triée en commençant à l'index `i-1` jusqu'à trouver la position d'insertion en décalant dans le même temps les éléments pour pouvoir effectuer l'insertion.\n",
    "* Insérer l'élément."
   ]
  },
  {
   "cell_type": "markdown",
   "metadata": {},
   "source": [
    "<div class=\"alert alert-info\">\n",
    "    \n",
    "<strong class='fa fa-cogs' style=\"color: darkorange\"> Premiers pas vers la conception de l'algorithme </strong>\n",
    "\n",
    "On considère la liste `L = [2, 15, 23, 10, 5, 1]`. Cette liste est triée jusqu'à l'index $2$.  En remplaçant les `?`, compléter le programme python qui doit permettre d'insérer l'élément d'index $3$ à sa place.\n",
    "\n",
    "L'instruction `print(L)` doit renvoyer `L = [2, 10, 15, 23, 5, 1]`.\n",
    "</div>"
   ]
  },
  {
   "cell_type": "code",
   "execution_count": null,
   "metadata": {},
   "outputs": [],
   "source": [
    "L = [2, 15, 23, 10, 5, 1]\n",
    "\n",
    "temp = L[3]\n",
    "j = ?\n",
    "while L[j] > temp:\n",
    "    L[?] = L[?]\n",
    "    j = j - 1\n",
    "L[j + 1] = ?\n",
    "\n",
    "print(L)"
   ]
  },
  {
   "cell_type": "markdown",
   "metadata": {},
   "source": [
    "<div class=\"alert alert-info\">\n",
    "    \n",
    "<strong class='fa fa-cogs' style=\"color: darkorange\"> Deuxième pas vers l'algorithme </strong>\n",
    "\n",
    "1. On considère la liste `L = [2, 10, 15, 23, 5, 1]`. Cette liste est triée jusqu'à l'index $3$.  Recopier et modifier le programme python de l'exercice précédent pour permettre d'insérer l'élément d'index $4$ à sa place.\n",
    "L'instruction `print(L)` doit renvoyer `L = [2, 5, 10, 15, 23, 1]`\n",
    "2. On considère la liste `L = [2, 5, 10, 15, 23, 1]`. Le programme ci-dessous doit insérer le dernier élément à sa place,ici au début de la liste, mais il renvoie une erreur. Le modifier(on pourra faire afficher les différentes valeurs prises par `j` pour trouver l'erreur). L'instruction `print(L)` doit renvoyer `L = [1, 2, 5, 10, 15, 23]`.\n",
    "</div>"
   ]
  },
  {
   "cell_type": "code",
   "execution_count": 23,
   "metadata": {},
   "outputs": [],
   "source": [
    "# Algorithme pour la question 1"
   ]
  },
  {
   "cell_type": "code",
   "execution_count": 24,
   "metadata": {},
   "outputs": [],
   "source": [
    "# Algorithme pour la question 2\n",
    "L=[2, 5, 10, 15, 23, 1]\n",
    "\n",
    "temp = L[5]\n",
    "j = 4\n",
    "while L[j] > temp:\n",
    "    L[j+1] = L[j]\n",
    "    j = j-1\n",
    "L[j+1] = temp\n",
    "\n",
    "print(L)"
   ]
  },
  {
   "cell_type": "markdown",
   "metadata": {},
   "source": [
    "<div class=\"alert alert-info\">\n",
    "    \n",
    "<strong class='fa fa-cogs' style=\"color: darkorange\"> Ca y est faisons l'algorithme de tri ! </strong>\n",
    "\n",
    "La fonction `tri_insert(tab)` prend en paramètre une liste `tab` d'entiers et doit renvoyer cette liste triée par sélection.\n",
    "En vous aidant des résultats précédents, compléter cette fonction en remplaçant les `?`.\n",
    "\n",
    "Proposer des jeux de tests et exécuter la fonction pour une liste aléatoire d'entiers.</div>"
   ]
  },
  {
   "cell_type": "code",
   "execution_count": null,
   "metadata": {},
   "outputs": [],
   "source": [
    "#Algorithme du tri par insertion\n",
    "def tri_insert(tab):\n",
    "    for i  in range(?) :\n",
    "        tmp = tab[?]\n",
    "        j = ?\n",
    "        while j >= 0 and tab[j] > tmp:\n",
    "            tab[j+1] = tab[j]\n",
    "            j = j - 1\n",
    "        tab[j+1] = tmp\n",
    "    return tab\n",
    "\n",
    "L=[randint(-32,32) for i in range(10)]\n",
    "print (L)\n",
    "print(tri_insert(L))"
   ]
  },
  {
   "cell_type": "markdown",
   "metadata": {},
   "source": [
    "#### Correction"
   ]
  },
  {
   "cell_type": "markdown",
   "metadata": {},
   "source": [
    "<div class=\"alert alert-info\">\n",
    "    \n",
    "<strong class='fa fa-cogs' style=\"color: darkorange\"> Vérifions qu'il fonctionne ! </strong>\n",
    "\n",
    "1. Démontrer la terminaison de l'algorithme.\n",
    "2. Démontrer la correction de cet algorithme.<br/>\n",
    "On utilisera comme invariant de boucle \"à la fin de l’étape i, les i premiers éléments du tableau sont triés\".\n",
    "</div>"
   ]
  },
  {
   "cell_type": "markdown",
   "metadata": {},
   "source": [
    "*Saisir les réponses aux questions ici ...*"
   ]
  },
  {
   "cell_type": "markdown",
   "metadata": {},
   "source": [
    "### Etude de la complexité du tri par insertion"
   ]
  },
  {
   "cell_type": "markdown",
   "metadata": {},
   "source": [
    "<div class=\"alert alert-info\">\n",
    "    \n",
    "<strong class='fa fa-cogs' style=\"color: darkorange\"> Complexité tri sélection </strong>\n",
    "\n",
    "1. Combien d'opérations sont réalisées lors du premier passage dans la boucle `for i in range ...`\n",
    "2. Combien d'opérations sont réalisées lors du deuxième passage dans la boucle `for i in range ...`\n",
    "3. Combien d'opérations sont réalisées lors du troisième passage dans la boucle `for i in range ...`\n",
    "4. Combien d'opérations sont réalisées trier toute la liste ?\n",
    "5. En déduire la classe de complexité de l'algorithme de tri par sélection.\n",
    "</div>"
   ]
  },
  {
   "cell_type": "markdown",
   "metadata": {},
   "source": [
    "*Saisir les réponses aux questions ici ...*"
   ]
  },
  {
   "cell_type": "code",
   "execution_count": null,
   "metadata": {},
   "outputs": [],
   "source": []
  }
 ],
 "metadata": {
  "kernelspec": {
   "display_name": "Python 3",
   "language": "python",
   "name": "python3"
  },
  "language_info": {
   "codemirror_mode": {
    "name": "ipython",
    "version": 3
   },
   "file_extension": ".py",
   "mimetype": "text/x-python",
   "name": "python",
   "nbconvert_exporter": "python",
   "pygments_lexer": "ipython3",
   "version": "3.7.4"
  }
 },
 "nbformat": 4,
 "nbformat_minor": 2
}
