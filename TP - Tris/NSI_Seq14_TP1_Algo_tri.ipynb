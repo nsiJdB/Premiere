{
 "cells": [
  {
   "cell_type": "markdown",
   "metadata": {},
   "source": [
    "# TP - Sequence N°14 - Algorithmes de Tris\n"
   ]
  },
  {
   "attachments": {},
   "cell_type": "markdown",
   "metadata": {},
   "source": [
    "<center><b>Le tri est une activité fondamentale et omniprésente de l'informatique.</b></center>\n",
    "\n",
    "<img src='tri.jpg' width=200> \n",
    "\n",
    "* On l'utilise régulièrement, par exemple :\n",
    "   * Lorsque l'on consulte sur Internet des listes de produits que l'on souhaite afficher par prix croissant ou décroissant, par popularité...\n",
    "   * Lorsque dans un tableur on souhaite trier des noms par ordre alphabétique\n",
    "   * Lorsque l'on affiche ses photos par date\n",
    "\n",
    "\n",
    "* Cela permet d'étudier des concepts algorithmiques puissants et efficaces\n",
    "\n",
    "\n",
    "* <b>Pour simplifier, on cherche ici à trier des liste d'entiers dans l'ordre croissant. Le but d’un algorithme de tri est ainsi de créer une nouvelle liste, ou\n",
    "de modifier la liste initiale, de manière à ce qu’elle contienne les mêmes\n",
    "nombres que la liste de départ, mais que ces éléments soient ordonnés.</b>"
   ]
  },
  {
   "cell_type": "markdown",
   "metadata": {},
   "source": [
    "<div class=\"alert alert-info\">\n",
    "    \n",
    "<strong class='fa fa-cogs' style=\"color: darkorange\"> Question préliminaire </strong>\n",
    "\n",
    "Ecrire une fonction `liste_alea` qui reçoit en paramètre un entier `n` et qui retourne une liste de taille `n` d'entiers aléatoires compris entre -32 et 32.\n",
    "</div>"
   ]
  },
  {
   "cell_type": "code",
   "execution_count": null,
   "metadata": {},
   "outputs": [],
   "source": [
    "#TODO"
   ]
  },
  {
   "cell_type": "markdown",
   "metadata": {},
   "source": [
    "De quoi dispose un ordinateur pour trier ?\n",
    "\n",
    "* Une fonction de comparaison ( $<$ , $>$ ), pour comparer deux valeurs.\n",
    "* Des zones de stockage pour mémoriser des emplacements (à l'aide de l'index des éléments d'une liste), déplacer des valeurs...\n",
    "* Il existe des dizaines d'algorithmes de tri, nous allons en étudier 2 cette année : \n",
    "  * **Le tri par sélection.**\n",
    "  * **Le tri par insertion.**"
   ]
  },
  {
   "cell_type": "markdown",
   "metadata": {},
   "source": [
    "## 1. Tri par sélection"
   ]
  },
  {
   "cell_type": "markdown",
   "metadata": {},
   "source": [
    "<img src='Selection-Sort.gif' width='400'>\n",
    "\n",
    "### 1.a) Présentation \n",
    "* On commence par chercher, parmi les nombres à trier, un élément plus petit que tous les autres. Cet élément sera le premier de la liste triée. \n",
    "* On cherche ensuite, parmi ceux qui restent, un élément plus petit que tous les autres, qui sera le deuxième du tableau trié\n",
    "* On recommence pour trouver le troisième élément trié et ainsi de suite jusqu'à ce que toute la liste soit triée.\n",
    "\n",
    "\n",
    "#### Exemple : \n",
    "\n",
    "On cherche à trier la liste suivante : `[29, -6, 12, -11, 10]`\n",
    "\n",
    "* Le plus petit élement est $-11$, on le place au premier index 0\n",
    "* Que fait-on du $29$ ? Il prend la place de $-11$, la liste devient donc : `[-11,-6,12,29,10]`\n",
    "* Le plus petit des élements restants à trier est $-6$, il est déjà bien placé à l'index 1.\n",
    "* Le plus petit des élements restants à trier est $10$, on le place en troisième position (index 2).\n",
    "* Que fait-on du $12$ ? Il prend la place de $10$, la liste devient donc : `[-11,-6,10,29,12]`\n",
    "* Le plus petit des élements restants à trier est $12$, on le place en quatrième position (index 3).\n",
    "* Que fait-on du $29$ ? Il prend la place de $12$, la liste devient donc : `[-11,-6,10,12,29]`\n",
    "* Le dernier élément est nécéssairement le plus grand, la liste est triée."
   ]
  },
  {
   "cell_type": "markdown",
   "metadata": {},
   "source": [
    "<div class=\"alert alert-info\">\n",
    "    \n",
    "<strong class='fa fa-cogs' style=\"color: darkorange\"> Exercice 1 </strong>\n",
    "\n",
    "En indiquant les listes intermédiaires, trier la liste par sélection les listes \n",
    "* `liste1 = [5, -27, -14, 10, 7]`\n",
    "* `liste2 = [30, 24, -7, -19, 26, 21, -18]`\n",
    "</div>"
   ]
  },
  {
   "cell_type": "markdown",
   "metadata": {},
   "source": [
    "1. Pour la liste 1:\n",
    "    *   \n",
    "    *  \n",
    "    *  \n",
    "    *  \n",
    " \n",
    "\n",
    "2. Pour la liste 2:\n",
    "    *   \n",
    "    *  \n",
    "    *  \n",
    "    *  \n",
    "    *  \n",
    "    *  "
   ]
  },
  {
   "cell_type": "markdown",
   "metadata": {},
   "source": [
    "### 1.b) Programmation de l'algorithme"
   ]
  },
  {
   "cell_type": "markdown",
   "metadata": {},
   "source": [
    "#### Recherche du minimum et échange\n",
    "La première étape de l'algorithme est de rechercher le minimum de la liste et d'échanger sa place avec le premier élément: "
   ]
  },
  {
   "cell_type": "markdown",
   "metadata": {},
   "source": [
    "$(1)\\; L \\; est\\;une\\;liste\\\\\n",
    "(2)\\; indexmin \\leftarrow 0\\\\\n",
    "(3)\\; Pour\\; j\\; de \\;1\\;à \\; index\\;du\\;dernier\\;élément\\;de\\;L \\\\\n",
    "(4)\\; \\; \\; \\; \\;  Si\\; L[j]<L[indexmin] \\\\\n",
    "(5) \\; \\; \\; \\; \\; \\; \\; \\;\\;indexmin \\leftarrow j \\\\\n",
    "(6)\\; Echange\\;des\\;positions\\;de\\;L[0]\\;et\\;L[indexmin]$\n",
    "\n"
   ]
  },
  {
   "cell_type": "markdown",
   "metadata": {},
   "source": [
    "<div class=\"alert alert-info\">\n",
    "    \n",
    "<strong class='fa fa-cogs' style=\"color: darkorange\"> Premiers pas vers la conception de l'algorithme </strong>\n",
    "\n",
    "1. Que représente la variable `indexmin` ?\n",
    "2. Expliquer la ligne 6 de l'algorithme.\n",
    "3. En remplaçant les commentaires, programmer cet algorithme.\n",
    "</div>"
   ]
  },
  {
   "cell_type": "markdown",
   "metadata": {},
   "source": [
    "*Saisir ici réponse Q1*"
   ]
  },
  {
   "cell_type": "markdown",
   "metadata": {},
   "source": [
    "*Saisir ici réponse Q2*"
   ]
  },
  {
   "cell_type": "code",
   "execution_count": null,
   "metadata": {},
   "outputs": [],
   "source": [
    "# Générer ici une liste L aléatoire de 5 entiers compris entre -32 et 32\n",
    "# Afficher l'état initial de la iste\n",
    "\n",
    "#ligne2\n",
    "#ligne3\n",
    "#ligne4\n",
    "#ligne5\n",
    "#ligne6\n",
    "\n",
    "# Afficher l'état final de la liste"
   ]
  },
  {
   "cell_type": "markdown",
   "metadata": {},
   "source": [
    "<div class=\"alert alert-info\">\n",
    "    \n",
    "<strong class='fa fa-cogs' style=\"color: darkorange\"> Deuxième pas vers l'algorithme </strong>\n",
    "\n",
    "On suppose que le minimum de la liste est désormais le premier élément. L'étape suivante est d'identifier le plus petit élément parmi ceux restant à trier et de le placer en deuxième position.\n",
    "\n",
    "1. Recopier et modifier l'algorithme précédent en ce sens. On utilisera la liste`[-29, 24, 31, -15, 8]`. l'instruction`print(L)` doit renvoyer `[-29, -15, 31, 24, 8]`.\n",
    "2. Quel est le rôle de l'algorithme conçu ? ?\n",
    "3. Que doit-on modifier pour trouver le troisième élement de la liste triée ?\n",
    "</div>"
   ]
  },
  {
   "cell_type": "code",
   "execution_count": 10,
   "metadata": {},
   "outputs": [
    {
     "name": "stdout",
     "output_type": "stream",
     "text": [
      "[-29, 24, 31, -15, 8]\n"
     ]
    }
   ],
   "source": [
    "# Question 1\n",
    "L=[-29, 24, 31, -15, 8]\n",
    "\n",
    "#ligne2\n",
    "#ligne3\n",
    "#ligne4\n",
    "#ligne5\n",
    "\n",
    "print(L)"
   ]
  },
  {
   "cell_type": "markdown",
   "metadata": {},
   "source": [
    "*Saisir ici la réponse à Q2*"
   ]
  },
  {
   "cell_type": "markdown",
   "metadata": {},
   "source": [
    "*Saisir ici la réponse à Q3*\n",
    "\n",
    " Pour trouver le troisième élément trié , il faut :\n",
    "   *  \n",
    "   *  \n",
    "   *  "
   ]
  },
  {
   "cell_type": "markdown",
   "metadata": {},
   "source": [
    "#### Algorithme du tri par sélection"
   ]
  },
  {
   "cell_type": "markdown",
   "metadata": {},
   "source": [
    "<div class=\"alert alert-info\">\n",
    "    \n",
    "<strong class='fa fa-cogs' style=\"color: darkorange\"> Ca y est faisons l'algorithme de tri ! </strong>\n",
    "\n",
    "La fonction `tri_select(tab)` prend en paramètre une liste `tab` d'entiers et doit renvoyer cette liste triée par sélection.\n",
    "En vous aidant des résultats précédents, compléter cette fonction en remplaçant les `?`.\n",
    "\n",
    "Proposer des jeux de tests et exécuter la fonction pour une liste aléatoire d'entiers.</div>"
   ]
  },
  {
   "cell_type": "code",
   "execution_count": null,
   "metadata": {},
   "outputs": [],
   "source": [
    "#Algorithme de tri par sélection\n",
    "def tri_select(tab):\n",
    "    for i in ?:\n",
    "        imin = ?\n",
    "        for j in range(?, len(tab)):\n",
    "            if tab[j] < tab[imin]:\n",
    "                imin = j\n",
    "                \n",
    "        tab[?], tab[imin] = tab[imin], tab[?]\n",
    "    \n",
    "    return tab"
   ]
  },
  {
   "cell_type": "markdown",
   "metadata": {},
   "source": [
    "#### Correction"
   ]
  },
  {
   "cell_type": "markdown",
   "metadata": {},
   "source": [
    "<div class=\"alert alert-info\">\n",
    "    \n",
    "<strong class='fa fa-cogs' style=\"color: darkorange\"> Vérifions qu'il fonctionne ! </strong>\n",
    "\n",
    "1. Démontrer la terminaison de l'algorithme.\n",
    "2. Démontrer la correction de cet algorithme.<br/>\n",
    "On utilisera comme invariant de boucle \"à la fin de l’étape i, les i premiers éléments du tableau sont triés\".\n",
    "</div>"
   ]
  },
  {
   "cell_type": "markdown",
   "metadata": {},
   "source": [
    "*Saisir les réponses aux questions ici ...*"
   ]
  },
  {
   "cell_type": "markdown",
   "metadata": {},
   "source": [
    "### 1.c) Etude de la complexité du tri par sélection"
   ]
  },
  {
   "cell_type": "markdown",
   "metadata": {},
   "source": [
    "<div class=\"alert alert-info\">\n",
    "    \n",
    "<strong class='fa fa-cogs' style=\"color: darkorange\"> Complexité tri sélection </strong>\n",
    "\n",
    "1. Combien d'opérations sont réalisées lors du premier passage dans la boucle `for i in range ...`\n",
    "2. Combien d'opérations sont réalisées lors du deuxième passage dans la boucle `for i in range ...`\n",
    "3. Combien d'opérations sont réalisées lors du troisième passage dans la boucle `for i in range ...`\n",
    "4. Combien d'opérations sont réalisées trier toute la liste ?\n",
    "5. En déduire la classe de complexité de l'algorithme de tri par sélection.\n",
    "</div>"
   ]
  },
  {
   "cell_type": "markdown",
   "metadata": {},
   "source": [
    "*Saisir les réponses aux questions ici ...*"
   ]
  },
  {
   "cell_type": "markdown",
   "metadata": {},
   "source": [
    "# 2. Tri par insertion"
   ]
  },
  {
   "cell_type": "markdown",
   "metadata": {},
   "source": [
    "<img align='center' src='Insertion-Sort.gif' width=400>\n",
    "\n",
    "### Présentation\n",
    "\n",
    "* C'est celui que l'on utilise intuitivement lorsque l'on trie des cartes à jouer dans sa main.\n",
    "* Dans une liste, on commence par trier les deux premiers élements en insérant éventuellement le deuxième élément en première position.\n",
    "* On insère tour à tour chaque élément non trié à sa place dans l'ensemble déjà trié précédemment.\n",
    "\n",
    "#### Exemple : \n",
    "\n",
    "On cherche à trier la liste suivante : `[29, -6, 12, -11, 10]`.\n",
    "\n",
    "* On insère $-6$ en première position `[ -6, 29, 12, -11, 10]`\n",
    "* On insère $12$ en deuxième position `[ -6, 12, 29, -11, 10]`\n",
    "* On insère $-11$ en première position `[ -11, -6, 12, 29, 10]`\n",
    "* On insère $10$ en troisième position `[ -11, -6, 10, 12, 29]`"
   ]
  },
  {
   "cell_type": "markdown",
   "metadata": {},
   "source": [
    "<div class=\"alert alert-info\">\n",
    "    \n",
    "<strong class='fa fa-cogs' style=\"color: darkorange\"> Exercice 2 </strong>\n",
    "\n",
    "En indiquant les listes intermédiaires, trier la liste par sélection les listes \n",
    "* `liste1 = [5, -27, -14, 10, 7]`\n",
    "* `liste2 = [30, 24, -7, -19, 26, 21, -18]`\n",
    "</div>"
   ]
  },
  {
   "cell_type": "markdown",
   "metadata": {},
   "source": [
    "1. Pour la liste 1:\n",
    "    *   \n",
    "    *  \n",
    "    *  \n",
    " \n",
    "\n",
    "2. Pour la liste 2:\n",
    "    *   \n",
    "    *  \n",
    "    *  \n",
    "    *  \n",
    "    *  \n",
    "    *  "
   ]
  },
  {
   "cell_type": "markdown",
   "metadata": {},
   "source": [
    "### Programmation de l'algorithme"
   ]
  },
  {
   "cell_type": "markdown",
   "metadata": {},
   "source": [
    "#### Insérer l'élément d'index `i`\n",
    " \n",
    "* Sauvegarder `L[i]` dans une variable.\n",
    "* Parcourir la partie de la liste déjà triée en commençant à l'index `i-1` jusqu'à trouver la position d'insertion en décalant dans le même temps les éléments pour pouvoir effectuer l'insertion.\n",
    "* Insérer l'élément."
   ]
  },
  {
   "cell_type": "markdown",
   "metadata": {},
   "source": [
    "<div class=\"alert alert-info\">\n",
    "    \n",
    "<strong class='fa fa-cogs' style=\"color: darkorange\"> Premiers pas vers la conception de l'algorithme </strong>\n",
    "\n",
    "On considère la liste `L = [2, 15, 23, 10, 5, 1]`. Cette liste est triée jusqu'à l'index $2$.  En remplaçant les `?`, compléter le programme python qui doit permettre d'insérer l'élément d'index $3$ à sa place.\n",
    "\n",
    "L'instruction `print(L)` doit renvoyer `L = [2, 10, 15, 23, 5, 1]`.\n",
    "</div>"
   ]
  },
  {
   "cell_type": "code",
   "execution_count": null,
   "metadata": {},
   "outputs": [],
   "source": [
    "L = [2, 15, 23, 10, 5, 1]\n",
    "\n",
    "temp = L[3]\n",
    "j = ?\n",
    "while L[j] > temp:\n",
    "    L[?] = L[?]\n",
    "    j = j - 1\n",
    "L[j + 1] = ?\n",
    "\n",
    "print(L)"
   ]
  },
  {
   "cell_type": "markdown",
   "metadata": {},
   "source": [
    "<div class=\"alert alert-info\">\n",
    "    \n",
    "<strong class='fa fa-cogs' style=\"color: darkorange\"> Deuxième pas vers l'algorithme </strong>\n",
    "\n",
    "1. On considère la liste `L = [2, 10, 15, 23, 5, 1]`. Cette liste est triée jusqu'à l'index $3$.  Recopier et modifier le programme python de l'exercice précédent pour permettre d'insérer l'élément d'index $4$ à sa place.\n",
    "L'instruction `print(L)` doit renvoyer `L = [2, 5, 10, 15, 23, 1]`\n",
    "2. On considère la liste `L = [2, 5, 10, 15, 23, 1]`. Le programme ci-dessous doit insérer le dernier élément à sa place,ici au début de la liste, mais il renvoie une erreur. Le modifier(on pourra faire afficher les différentes valeurs prises par `j` pour trouver l'erreur). L'instruction `print(L)` doit renvoyer `L = [1, 2, 5, 10, 15, 23]`.\n",
    "</div>"
   ]
  },
  {
   "cell_type": "code",
   "execution_count": 23,
   "metadata": {},
   "outputs": [],
   "source": [
    "# Algorithme pour la question 1"
   ]
  },
  {
   "cell_type": "code",
   "execution_count": 24,
   "metadata": {},
   "outputs": [],
   "source": [
    "# Algorithme pour la question 2"
   ]
  },
  {
   "cell_type": "markdown",
   "metadata": {},
   "source": [
    "<div class=\"alert alert-info\">\n",
    "    \n",
    "<strong class='fa fa-cogs' style=\"color: darkorange\"> Ca y est faisons l'algorithme de tri ! </strong>\n",
    "\n",
    "La fonction `tri_insert(tab)` prend en paramètre une liste `tab` d'entiers et doit renvoyer cette liste triée par sélection.\n",
    "En vous aidant des résultats précédents, compléter cette fonction en remplaçant les `?`.\n",
    "\n",
    "Proposer des jeux de tests et exécuter la fonction pour une liste aléatoire d'entiers.</div>"
   ]
  },
  {
   "cell_type": "code",
   "execution_count": null,
   "metadata": {},
   "outputs": [],
   "source": [
    "#Algorithme du tri par insertion\n",
    "def tri_insert(tab):\n",
    "    for i  in range(?) :\n",
    "        tmp = tab[?]\n",
    "        j = ?\n",
    "        while j >= 0 and tab[j] > tmp:\n",
    "            tab[j+1] = L[j]\n",
    "            j = j - 1\n",
    "        tab[j+1] = tmp\n",
    "    return tab\n",
    "\n",
    "L=[randint(-32,32) for i in range(10)]\n",
    "print (L)\n",
    "print(tri_insert(L))"
   ]
  },
  {
   "cell_type": "markdown",
   "metadata": {},
   "source": [
    "#### Correction"
   ]
  },
  {
   "cell_type": "markdown",
   "metadata": {},
   "source": [
    "<div class=\"alert alert-info\">\n",
    "    \n",
    "<strong class='fa fa-cogs' style=\"color: darkorange\"> Vérifions qu'il fonctionne ! </strong>\n",
    "\n",
    "1. Démontrer la terminaison de l'algorithme.\n",
    "2. Démontrer la correction de cet algorithme.<br/>\n",
    "On utilisera comme invariant de boucle \"à la fin de l’étape i, les i premiers éléments du tableau sont triés\".\n",
    "</div>"
   ]
  },
  {
   "cell_type": "markdown",
   "metadata": {},
   "source": [
    "*Saisir les réponses aux questions ici ...*"
   ]
  },
  {
   "cell_type": "markdown",
   "metadata": {},
   "source": [
    "### Etude de la complexité du tri par insertion"
   ]
  },
  {
   "cell_type": "markdown",
   "metadata": {},
   "source": [
    "<div class=\"alert alert-info\">\n",
    "    \n",
    "<strong class='fa fa-cogs' style=\"color: darkorange\"> Complexité tri sélection </strong>\n",
    "\n",
    "1. Combien d'opérations sont réalisées lors du premier passage dans la boucle `for i in range ...`\n",
    "2. Combien d'opérations sont réalisées lors du deuxième passage dans la boucle `for i in range ...`\n",
    "3. Combien d'opérations sont réalisées lors du troisième passage dans la boucle `for i in range ...`\n",
    "4. Combien d'opérations sont réalisées trier toute la liste ?\n",
    "5. En déduire la classe de complexité de l'algorithme de tri par sélection.\n",
    "</div>"
   ]
  },
  {
   "cell_type": "markdown",
   "metadata": {},
   "source": [
    "*Saisir les réponses aux questions ici ...*"
   ]
  },
  {
   "cell_type": "code",
   "execution_count": null,
   "metadata": {},
   "outputs": [],
   "source": []
  }
 ],
 "metadata": {
  "kernelspec": {
   "display_name": "Python 3",
   "language": "python",
   "name": "python3"
  },
  "language_info": {
   "codemirror_mode": {
    "name": "ipython",
    "version": 3
   },
   "file_extension": ".py",
   "mimetype": "text/x-python",
   "name": "python",
   "nbconvert_exporter": "python",
   "pygments_lexer": "ipython3",
   "version": "3.7.3"
  }
 },
 "nbformat": 4,
 "nbformat_minor": 2
}
