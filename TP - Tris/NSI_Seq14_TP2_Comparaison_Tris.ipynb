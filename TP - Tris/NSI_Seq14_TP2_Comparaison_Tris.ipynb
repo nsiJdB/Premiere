{
 "cells": [
  {
   "cell_type": "markdown",
   "metadata": {},
   "source": [
    "# TP N°2 - Sequence N°14 - Algorithmes de tri\n",
    "# Comparaison des tris par insertion et par sélection"
   ]
  },
  {
   "cell_type": "markdown",
   "metadata": {},
   "source": [
    "---\n",
    "On a démontré que, dans le pire des cas, ces algorithmes ont des ordres de complexité quadratique.\n",
    "\n",
    "Mais l'un est-il plus efficace que l'autre ? Quand utiliser l'un ou l'autre ? \n",
    "\n",
    "On souhaite, dans ce TP, comparer de manière plus précise les temps d'exécution de ces deux algorithmes.\n",
    "\n",
    "---"
   ]
  },
  {
   "cell_type": "markdown",
   "metadata": {},
   "source": [
    "On redonne les algorithmes utilisés dans le TP N°1 :\n",
    "  * fonction `liste_alea` qui créé une liste alétoire d'entier entre 0 et 10000. \n",
    "  * fonction `tri_select` qui réalise le tri d'une liste par sélection.\n",
    "  * fonction `tri_insert` qui réalise le tri d'une liste par insertion."
   ]
  },
  {
   "cell_type": "code",
   "execution_count": 65,
   "metadata": {},
   "outputs": [],
   "source": [
    "import random\n",
    "\n",
    "def liste_alea(n):\n",
    "    return [random.randint(0, 10000) for _ in range(n)]\n"
   ]
  },
  {
   "cell_type": "code",
   "execution_count": 66,
   "metadata": {},
   "outputs": [],
   "source": [
    "#Algorithme de tri par sélection\n",
    "def tri_select(tab):\n",
    "    for i in range(len(tab)):\n",
    "        imin = i\n",
    "        for j in range(i+1, len(tab)):\n",
    "            if tab[j] < tab[imin]:\n",
    "                imin = j\n",
    "        tab[i], tab[imin] = tab[imin], tab[i]\n",
    "    return tab"
   ]
  },
  {
   "cell_type": "code",
   "execution_count": 61,
   "metadata": {},
   "outputs": [],
   "source": [
    "#Algorithme de tri par insertion\n",
    "def tri_insert(tab):\n",
    "    for i  in range(1, len(tab)) :\n",
    "        tmp = tab[i]\n",
    "        j = i-1\n",
    "        while j >= 0 and tab[j] > tmp:\n",
    "            tab[j+1] = tab[j]\n",
    "            j = j-1\n",
    "        tab[j+1] = tmp\n",
    "    return tab"
   ]
  },
  {
   "cell_type": "markdown",
   "metadata": {},
   "source": [
    "## 1. Comparaison des temps d'exécution"
   ]
  },
  {
   "cell_type": "markdown",
   "metadata": {},
   "source": [
    "<div class=\"alert alert-info\">\n",
    "    \n",
    "<strong class='fa fa-cogs' style=\"color: darkorange\"> Mesurer le temps d'exécution </strong>\n",
    "\n",
    "1. Ecrire les fonctions `tps_insertion` et `tps_selection` qui reçoivent en paramètre une liste et qui renvoie respectivement le temps pour trier la liste par insertion ou par sélection.<br/>\n",
    "L'instruction `time.time()` permet de mesurer le temps écoulé, en secondes, écouté depuis le 01/01/1970 à 00h00.\n",
    "\n",
    "2. Tester ensuite les fonctions précédentes pour des listes aléatoires de tailles 10, 100, 1000 et 10000\n",
    "</div>"
   ]
  },
  {
   "cell_type": "code",
   "execution_count": 49,
   "metadata": {},
   "outputs": [],
   "source": [
    "import time\n",
    "\n",
    "def tps_insertion(tab):\n",
    "    \"\"\" test de durée d’exécution \"\"\"\n",
    "    pass\n",
    "\n",
    "def tps_selection(tab):\n",
    "    \"\"\" test de durée d’exécution \"\"\" \n",
    "    pass"
   ]
  },
  {
   "cell_type": "code",
   "execution_count": 62,
   "metadata": {},
   "outputs": [],
   "source": [
    "# tester ici les fonctions précédentes pour des listes aléatoires de tailles 10, 100, 1000 et 10000"
   ]
  },
  {
   "cell_type": "markdown",
   "metadata": {},
   "source": [
    "### 1.a) Comparaisons pour un taille de liste de donnée"
   ]
  },
  {
   "cell_type": "markdown",
   "metadata": {},
   "source": [
    "Pour comparer sur plusieurs listes, on allons répéter les expériences et représenter graphiquement les temps d'exécution.\n",
    "\n",
    "On donne le script ci-dessous qui permet de tracer un nuage de points où l'abscisse du point représente le numéro de l'exécution et l'ordonnée le temps d'exécution en secondes."
   ]
  },
  {
   "cell_type": "code",
   "execution_count": null,
   "metadata": {},
   "outputs": [],
   "source": [
    "x, y =[], []\n",
    "for i in range(1, 10):\n",
    "    # ici on repète 10 l'expérience pour une liste aléatoire de taille 100\n",
    "    liste = liste_alea(100)\n",
    "    t_insert = test_select(liste)\n",
    "    x.append(i)\n",
    "    y.append(t_insert)    \n",
    "    \n",
    "import matplotlib.pyplot as plt\n",
    "# permet d'importer la bibliothèque pour les représentations graphiques.\n",
    "\n",
    "fig = plt.figure(figsize=(8, 8))\n",
    "plt.plot(x,y,marker='o',label='Tri par sélection')\n",
    "plt.xlabel(\"nombre de d'essais\")\n",
    "plt.ylabel('temps de calcul en secondes')\n",
    "plt.legend(loc='upper left')\n",
    "plt.grid()\n",
    "plt.show()"
   ]
  },
  {
   "cell_type": "markdown",
   "metadata": {},
   "source": [
    "<div class=\"alert alert-info\">\n",
    "    \n",
    "<strong class='fa fa-cogs' style=\"color: darkorange\"> Observations graphiques </strong>\n",
    "\n",
    "1. Représenter sur un même graphique le temps d'exécution de l'algorithme de tri par sélection et de l'algorithme de tri par insertion pour une liste de taille 10. Renouveller 50 fois l'expérience.\n",
    "2. Même question pour des listes de tailles 100.\n",
    "3. Même question pour des listes de tailles 1000.\n",
    "4. Même question pour des listes de tailles 10000 (seulement 10 répétitions).\n",
    "5. Renouveller l'expérience pour des listes triées. Pour gagner du temps d'exécution, on triera les listes avec la fonction `sorted`.<br/>\n",
    "**Cela peut paraître paradoxal de trier une liste triée mais au moment d'aborder un tri de liste, on ne sait pas si la liste est triée ...** \n",
    "\n",
    "</div>"
   ]
  },
  {
   "cell_type": "code",
   "execution_count": null,
   "metadata": {},
   "outputs": [],
   "source": [
    "# Exécution pour tri de listes de taille 10."
   ]
  },
  {
   "cell_type": "code",
   "execution_count": null,
   "metadata": {},
   "outputs": [],
   "source": [
    "# Exécution pour tri de listes de taille 100."
   ]
  },
  {
   "cell_type": "code",
   "execution_count": null,
   "metadata": {},
   "outputs": [],
   "source": [
    "# Exécution pour tri de listes de taille 1000."
   ]
  },
  {
   "cell_type": "code",
   "execution_count": null,
   "metadata": {},
   "outputs": [],
   "source": [
    "# Exécution pour tri de listes de taille 10000."
   ]
  },
  {
   "cell_type": "code",
   "execution_count": null,
   "metadata": {},
   "outputs": [],
   "source": [
    "# Cas des listes triées"
   ]
  },
  {
   "cell_type": "markdown",
   "metadata": {},
   "source": [
    "Tirer ci-dessous les conclusions des observations faites précédemment concernant les temps d'exécution des algorithmes des tri par sélection et par insertion :\n",
    "  * cas des listes non triées :\n",
    "  * cas des liste triées :"
   ]
  },
  {
   "cell_type": "markdown",
   "metadata": {},
   "source": [
    "### 1.b) Complexité dans le cas des listes triées"
   ]
  },
  {
   "cell_type": "markdown",
   "metadata": {},
   "source": [
    "<div class=\"alert alert-info\">\n",
    "    \n",
    "<strong class='fa fa-cogs' style=\"color: darkorange\"> Observations graphiques 2 </strong>\n",
    "\n",
    "Dans cet exercice, on se place dans le cas où on cherche à trier une liste triée.\n",
    "\n",
    "1. Sur un même graphique, représenter la représentation graphique du temps d'exécution du tri d'une liste triée en utilisant la méthode par sélection ou par insertion en fonction de la taille de la liste.\n",
    "\n",
    "2. En déduire pour chacun des deux algorithmes de tri la complexité dans le meilleur des cas.\n",
    "3. Démontrer les complexités dans le meilleur de cas observées.\n",
    "\n",
    "</div>"
   ]
  },
  {
   "cell_type": "code",
   "execution_count": null,
   "metadata": {},
   "outputs": [],
   "source": [
    "# Question 1"
   ]
  },
  {
   "cell_type": "markdown",
   "metadata": {},
   "source": [
    "*Réponses question 2*"
   ]
  },
  {
   "cell_type": "markdown",
   "metadata": {},
   "source": [
    "## 2. Optimisation de l'algorithme de tri par sélection"
   ]
  },
  {
   "cell_type": "markdown",
   "metadata": {},
   "source": [
    "On peut optimiser l'algorithme de tri par sélection on améliorant le temps de recherche de l'indice auquel on doit insérer l'élément à chaque boucle.<br/>\n",
    "**La clé se trouve dans l'algorithme de dichotomie. Encore lui ...**\n",
    "\n",
    "Souvenez-vous de l'invariant de boucle de l'algorithme de tri par sélection est \"à la fin de l’étape `i`, `tab[0:i-1]` est triée\". On peut donc appliquer l'algorithme de dichotomie à cette liste pour savoir à quel emplacement insérer l'élément `tab[i]`.\n",
    "\n",
    "Est ce qu'on gagne vraiment du temps en faisant ainsi ??? Good question !!"
   ]
  },
  {
   "cell_type": "markdown",
   "metadata": {},
   "source": [
    "<div class=\"alert alert-info\">\n",
    "    \n",
    "<strong class='fa fa-cogs' style=\"color: darkorange\"> Exercice </strong>\n",
    "\n",
    "1. Ecrire le script d'une fonction `dichotomie` : \n",
    "  * reçoit en paramètres une liste triée et un élément ;\n",
    "  * renvoie, qui à l'aide d'une recherche dichotomique, l'indice auquel placer l'élément pour que la liste reste triée.\n",
    "\n",
    "2. Ecrire une fonction `inserer_elt` qui : \n",
    "  * reçoit en paramètres une liste et un indice `indice`;\n",
    "  * renvoie la liste où le dernier élément est inséré à la position `indice`.\n",
    "\n",
    "</div>"
   ]
  },
  {
   "cell_type": "code",
   "execution_count": null,
   "metadata": {},
   "outputs": [],
   "source": [
    "def dichotomie(tab, elt):\n",
    "    pass\n",
    "\n",
    "def inserer_elt(tab, indice):\n",
    "    pass"
   ]
  },
  {
   "cell_type": "markdown",
   "metadata": {},
   "source": [
    "<div class=\"alert alert-info\">\n",
    "    \n",
    "<strong class='fa fa-cogs' style=\"color: darkorange\"> Pour finir </strong>\n",
    "\n",
    "1. Réécrire l'algorithme de tri par insertion à l'aide des fonctions `dichotomie` et `inserer_elt`.<br/> On nommera la nouvelle fonction `tri_insert_dicho`.\n",
    "\n",
    "2. Pour une liste quelconque de taill 10000, comparer les temps d'exécution des algorithmes de tri par insertion et de tri par insertion dichotomique.\n",
    "\n",
    "3. Quelle est la complexité de l'algorithme de tri par insertion dichotomique ?\n",
    "\n",
    "</div>"
   ]
  },
  {
   "cell_type": "code",
   "execution_count": null,
   "metadata": {},
   "outputs": [],
   "source": [
    "def tri_insert_dicho(tab):\n",
    "    pass"
   ]
  },
  {
   "cell_type": "markdown",
   "metadata": {},
   "source": [
    "*Réponse Q3 à saisir ici*"
   ]
  },
  {
   "cell_type": "code",
   "execution_count": null,
   "metadata": {},
   "outputs": [],
   "source": []
  }
 ],
 "metadata": {
  "kernelspec": {
   "display_name": "Python 3",
   "language": "python",
   "name": "python3"
  },
  "language_info": {
   "codemirror_mode": {
    "name": "ipython",
    "version": 3
   },
   "file_extension": ".py",
   "mimetype": "text/x-python",
   "name": "python",
   "nbconvert_exporter": "python",
   "pygments_lexer": "ipython3",
   "version": "3.7.3"
  }
 },
 "nbformat": 4,
 "nbformat_minor": 2
}
